{
 "cells": [
  {
   "cell_type": "markdown",
   "metadata": {},
   "source": [
    "# Regresja liniowa i logistyczna"
   ]
  },
  {
   "cell_type": "markdown",
   "metadata": {},
   "source": [
    "## Wstęp\n",
    "\n",
    "![A group of people on Titanic looking at an iceberg.](titanic.png \"Stable diffusion image: A photograph of Titanic crushing with an iceberg made from a matrix\")\n",
    "\n",
    "\n",
    "Celem laboratorium jest zapoznanie z najprostszymi narzędziami do predykcji na podstawie danych - regresją liniową i logistyczną. \n",
    "Zapoznasz się na nim z następującymi tematami:\n",
    "* przygotowaniem danych, w szczególności z:\n",
    "  * ładowaniem danych,\n",
    "  * typami danych,\n",
    "  * obsługą wartości brakujących,\n",
    "  * oceną przydatności atrybutów,\n",
    "  * skalowaniem wartości;\n",
    "* regresją liniową, w szczególności z:\n",
    "  * podziałem zbioru na część treningową i testową,\n",
    "  * oceną jakości modelu,\n",
    "  * walidacją skrośną,\n",
    "  * wyszukiwaniem hiperparametrów;\n",
    "* regresją logistyczną, w szczególności z:\n",
    "  * różnymi rodzajami błędów klasyfikacji,\n",
    "  * problemem przeuczenia, niedouczenia oraz metodami regularyzacji modelu.\n",
    "\n",
    "Na pierwszych zajęciach możesz korzystać ze środowiska Google Colab i zdalnego środowiska obliczeniowego. Jeżeli interesuje Cię skonfigurowanie Pythona u siebie, to niezbędne informacje są podane w sekcji \"Konfiguracja własnego komputera\"."
   ]
  },
  {
   "cell_type": "markdown",
   "metadata": {},
   "source": [
    "## Wykorzystywane biblioteki"
   ]
  },
  {
   "cell_type": "markdown",
   "metadata": {},
   "source": [
    "Na zajęciach korzystać będziesz z kilku popularnych bibliotek do Pythona, które umożliwiają klasyfikację danych, ich wizualizację czy preprocessing. Są to:\n",
    "1. [numpy](https://numpy.org/) - klasyczna bibliotek do wykonywania obliczeń macierzowych. Pozwala na efektywne przeprowadzanie obliczeń naukowych (np. na macierzach). Dobrze współgra z biblioteką pandas,\n",
    "1. [pandas](https://pandas.pydata.org/) - narzędzie do analizy danych, ich strukturyzowania oraz manipulacji na nich,\n",
    "1. [sklearn](https://scikit-learn.org/stable/) - narzędzie do przeprowadzania klasyfikacji, regresji, clusteringu itp. Biblioteka ta jest dość rozbudowana i pozwala także na mapowanie danych czy redukcję wymiarów. Więcej informacji znajdziesz w podanym linku,\n",
    "1. [missingno](https://pypi.org/project/missingno/) - narzędzie do wizualizacji kompletności danych (brakujących wartości),\n",
    "1. [seaborn](https://seaborn.pydata.org/) - kompleksowe narzędzie do wizualizacji danych jako takich. Pozwala na stworzenie bardzo szerokiej gamy wykresów w zależności od potrzeb.\n",
    "\n",
    "Zostały tutaj pominięte pewne standardowe biblioteki jak np. os czy matplotlib."
   ]
  },
  {
   "cell_type": "markdown",
   "metadata": {},
   "source": [
    "## Konfiguracja własnego komputera"
   ]
  },
  {
   "cell_type": "markdown",
   "metadata": {},
   "source": [
    "Jeżeli korzystasz z własnego komputera, to musisz zainstalować trochę więcej bibliotek (Google Colab ma je już zainstalowane). Najlepiej używać Pythona 3.9, z którym laboratorium było testowane."
   ]
  },
  {
   "cell_type": "markdown",
   "metadata": {},
   "source": [
    "### Anaconda\n",
    "\n",
    "Jeżeli korzystasz z Anacondy (możesz uruchomić w terminalu):"
   ]
  },
  {
   "cell_type": "code",
   "execution_count": 4,
   "metadata": {},
   "outputs": [
    {
     "name": "stdout",
     "output_type": "stream",
     "text": [
      "Collecting package metadata (current_repodata.json): ...working... done\n",
      "Solving environment: ...working... done\n",
      "\n",
      "## Package Plan ##\n",
      "\n",
      "  environment location: C:\\Users\\bchwa\\anaconda3\\envs\\PSI\n",
      "\n",
      "  added / updated specs:\n",
      "    - imbalanced-learn\n",
      "    - lightgbm\n",
      "    - matplotlib\n",
      "    - missingno\n",
      "    - pandas\n",
      "    - scikit-learn\n",
      "    - shap\n",
      "\n",
      "\n",
      "The following packages will be downloaded:\n",
      "\n",
      "    package                    |            build\n",
      "    ---------------------------|-----------------\n",
      "    brotli-1.0.9               |       h8ffe710_7          18 KB  conda-forge\n",
      "    brotli-bin-1.0.9           |       h8ffe710_7          21 KB  conda-forge\n",
      "    ca-certificates-2022.9.24  |       h5b45459_0         189 KB  conda-forge\n",
      "    certifi-2022.9.24          |     pyhd8ed1ab_0         155 KB  conda-forge\n",
      "    cloudpickle-2.2.0          |     pyhd8ed1ab_0          25 KB  conda-forge\n",
      "    cycler-0.11.0              |     pyhd8ed1ab_0          10 KB  conda-forge\n",
      "    freetype-2.10.4            |       h546665d_1         489 KB  conda-forge\n",
      "    imbalanced-learn-0.9.1     |     pyhd8ed1ab_1         115 KB  conda-forge\n",
      "    intel-openmp-2022.1.0      |    h57928b3_3787         3.7 MB  conda-forge\n",
      "    joblib-1.2.0               |     pyhd8ed1ab_0         205 KB  conda-forge\n",
      "    kiwisolver-1.4.4           |   py39h2e07f2f_0          61 KB  conda-forge\n",
      "    libblas-3.9.0              |     16_win64_mkl         5.6 MB  conda-forge\n",
      "    libbrotlicommon-1.0.9      |       h8ffe710_7          67 KB  conda-forge\n",
      "    libbrotlidec-1.0.9         |       h8ffe710_7          33 KB  conda-forge\n",
      "    libbrotlienc-1.0.9         |       h8ffe710_7         716 KB  conda-forge\n",
      "    libcblas-3.9.0             |     16_win64_mkl         5.6 MB  conda-forge\n",
      "    liblapack-3.9.0            |     16_win64_mkl         5.6 MB  conda-forge\n",
      "    libtiff-4.0.9              |    h36446d0_1002         828 KB  conda-forge\n",
      "    llvmlite-0.38.0            |   py39h23ce68f_0        13.3 MB\n",
      "    m2w64-gcc-libgfortran-5.3.0|                6         342 KB  conda-forge\n",
      "    m2w64-gcc-libs-5.3.0       |                7         520 KB  conda-forge\n",
      "    m2w64-gcc-libs-core-5.3.0  |                7         214 KB  conda-forge\n",
      "    m2w64-gmp-6.1.0            |                2         726 KB  conda-forge\n",
      "    m2w64-libwinpthread-git-5.0.0.4634.697f757|                2          31 KB  conda-forge\n",
      "    matplotlib-3.5.2           |   py39haa95532_0          29 KB\n",
      "    matplotlib-base-3.5.2      |   py39h581301d_1         7.4 MB  conda-forge\n",
      "    mkl-2022.1.0               |     h6a75c08_874       182.7 MB  conda-forge\n",
      "    msys2-conda-epoch-20160418 |                1           3 KB  conda-forge\n",
      "    munkres-1.1.4              |     pyh9f0ad1d_0          12 KB  conda-forge\n",
      "    numba-0.55.1               |   py39hf11a4ad_0         3.4 MB\n",
      "    numpy-1.21.6               |   py39h6331f09_0         5.4 MB  conda-forge\n",
      "    openssl-1.1.1q             |       h8ffe710_0         5.8 MB  conda-forge\n",
      "    pandas-1.4.3               |   py39h2e25243_0        11.0 MB  conda-forge\n",
      "    patsy-0.5.3                |     pyhd8ed1ab_0         189 KB  conda-forge\n",
      "    pillow-9.2.0               |   py39hdc2b20a_1         908 KB\n",
      "    scikit-learn-1.1.2         |   py39hfd4428b_0         7.6 MB  conda-forge\n",
      "    scipy-1.8.1                |   py39h5567194_2        27.2 MB  conda-forge\n",
      "    seaborn-0.12.0             |       hd8ed1ab_0           5 KB  conda-forge\n",
      "    seaborn-base-0.12.0        |     pyhd8ed1ab_0         216 KB  conda-forge\n",
      "    statsmodels-0.13.2         |   py39h5d4886f_0        10.3 MB  conda-forge\n",
      "    tbb-2021.6.0               |       h59b6b97_0         135 KB\n",
      "    threadpoolctl-3.1.0        |     pyh8a188c0_0          18 KB  conda-forge\n",
      "    tk-8.6.12                  |       h8ffe710_0         3.5 MB  conda-forge\n",
      "    tqdm-4.64.1                |     pyhd8ed1ab_0          82 KB  conda-forge\n",
      "    ------------------------------------------------------------\n",
      "                                           Total:       304.4 MB\n",
      "\n",
      "The following NEW packages will be INSTALLED:\n",
      "\n",
      "  brotli             conda-forge/win-64::brotli-1.0.9-h8ffe710_7 None\n",
      "  brotli-bin         conda-forge/win-64::brotli-bin-1.0.9-h8ffe710_7 None\n",
      "  cloudpickle        conda-forge/noarch::cloudpickle-2.2.0-pyhd8ed1ab_0 None\n",
      "  cycler             conda-forge/noarch::cycler-0.11.0-pyhd8ed1ab_0 None\n",
      "  fonttools          pkgs/main/noarch::fonttools-4.25.0-pyhd3eb1b0_0 None\n",
      "  freetype           conda-forge/win-64::freetype-2.10.4-h546665d_1 None\n",
      "  imbalanced-learn   conda-forge/noarch::imbalanced-learn-0.9.1-pyhd8ed1ab_1 None\n",
      "  intel-openmp       conda-forge/win-64::intel-openmp-2022.1.0-h57928b3_3787 None\n",
      "  joblib             conda-forge/noarch::joblib-1.2.0-pyhd8ed1ab_0 None\n",
      "  kiwisolver         conda-forge/win-64::kiwisolver-1.4.4-py39h2e07f2f_0 None\n",
      "  libblas            conda-forge/win-64::libblas-3.9.0-16_win64_mkl None\n",
      "  libbrotlicommon    conda-forge/win-64::libbrotlicommon-1.0.9-h8ffe710_7 None\n",
      "  libbrotlidec       conda-forge/win-64::libbrotlidec-1.0.9-h8ffe710_7 None\n",
      "  libbrotlienc       conda-forge/win-64::libbrotlienc-1.0.9-h8ffe710_7 None\n",
      "  libcblas           conda-forge/win-64::libcblas-3.9.0-16_win64_mkl None\n",
      "  liblapack          conda-forge/win-64::liblapack-3.9.0-16_win64_mkl None\n",
      "  libtiff            conda-forge/win-64::libtiff-4.0.9-h36446d0_1002 None\n",
      "  lightgbm           conda-forge/win-64::lightgbm-3.3.2-py39h415ef7b_0 None\n",
      "  llvmlite           pkgs/main/win-64::llvmlite-0.38.0-py39h23ce68f_0 None\n",
      "  m2w64-gcc-libgfor~ conda-forge/win-64::m2w64-gcc-libgfortran-5.3.0-6 None\n",
      "  m2w64-gcc-libs     conda-forge/win-64::m2w64-gcc-libs-5.3.0-7 None\n",
      "  m2w64-gcc-libs-co~ conda-forge/win-64::m2w64-gcc-libs-core-5.3.0-7 None\n",
      "  m2w64-gmp          conda-forge/win-64::m2w64-gmp-6.1.0-2 None\n",
      "  m2w64-libwinpthre~ conda-forge/win-64::m2w64-libwinpthread-git-5.0.0.4634.697f757-2 None\n",
      "  matplotlib         pkgs/main/win-64::matplotlib-3.5.2-py39haa95532_0 None\n",
      "  matplotlib-base    conda-forge/win-64::matplotlib-base-3.5.2-py39h581301d_1 None\n",
      "  missingno          conda-forge/noarch::missingno-0.4.2-py_1 None\n",
      "  mkl                conda-forge/win-64::mkl-2022.1.0-h6a75c08_874 None\n",
      "  msys2-conda-epoch  conda-forge/win-64::msys2-conda-epoch-20160418-1 None\n",
      "  munkres            conda-forge/noarch::munkres-1.1.4-pyh9f0ad1d_0 None\n",
      "  numba              pkgs/main/win-64::numba-0.55.1-py39hf11a4ad_0 None\n",
      "  numpy              conda-forge/win-64::numpy-1.21.6-py39h6331f09_0 None\n",
      "  pandas             conda-forge/win-64::pandas-1.4.3-py39h2e25243_0 None\n",
      "  patsy              conda-forge/noarch::patsy-0.5.3-pyhd8ed1ab_0 None\n",
      "  pillow             pkgs/main/win-64::pillow-9.2.0-py39hdc2b20a_1 None\n",
      "  python_abi         conda-forge/win-64::python_abi-3.9-2_cp39 None\n",
      "  scikit-learn       conda-forge/win-64::scikit-learn-1.1.2-py39hfd4428b_0 None\n",
      "  scipy              conda-forge/win-64::scipy-1.8.1-py39h5567194_2 None\n",
      "  seaborn            conda-forge/noarch::seaborn-0.12.0-hd8ed1ab_0 None\n",
      "  seaborn-base       conda-forge/noarch::seaborn-base-0.12.0-pyhd8ed1ab_0 None\n",
      "  shap               conda-forge/win-64::shap-0.41.0-py39h2e25243_0 None\n",
      "  slicer             conda-forge/noarch::slicer-0.0.7-pyhd8ed1ab_0 None\n",
      "  statsmodels        conda-forge/win-64::statsmodels-0.13.2-py39h5d4886f_0 None\n",
      "  tbb                pkgs/main/win-64::tbb-2021.6.0-h59b6b97_0 None\n",
      "  threadpoolctl      conda-forge/noarch::threadpoolctl-3.1.0-pyh8a188c0_0 None\n",
      "  tk                 conda-forge/win-64::tk-8.6.12-h8ffe710_0 None\n",
      "  tqdm               conda-forge/noarch::tqdm-4.64.1-pyhd8ed1ab_0 None\n",
      "\n",
      "The following packages will be UPDATED:\n",
      "\n",
      "  ca-certificates    pkgs/main::ca-certificates-2022.07.19~ --> conda-forge::ca-certificates-2022.9.24-h5b45459_0 None\n",
      "\n",
      "The following packages will be SUPERSEDED by a higher-priority channel:\n",
      "\n",
      "  certifi            pkgs/main/win-64::certifi-2022.9.24-p~ --> conda-forge/noarch::certifi-2022.9.24-pyhd8ed1ab_0 None\n",
      "  openssl              pkgs/main::openssl-1.1.1q-h2bbff1b_0 --> conda-forge::openssl-1.1.1q-h8ffe710_0 None\n",
      "\n",
      "\n",
      "\n",
      "Downloading and Extracting Packages\n",
      "\n",
      "tbb-2021.6.0         | 135 KB    |            |   0% \n",
      "tbb-2021.6.0         | 135 KB    | ####7      |  47% \n",
      "tbb-2021.6.0         | 135 KB    | ########## | 100% \n",
      "\n",
      "imbalanced-learn-0.9 | 115 KB    |            |   0% \n",
      "imbalanced-learn-0.9 | 115 KB    | #3         |  14% \n",
      "imbalanced-learn-0.9 | 115 KB    | ########## | 100% \n",
      "imbalanced-learn-0.9 | 115 KB    | ########## | 100% \n",
      "\n",
      "libbrotlienc-1.0.9   | 716 KB    |            |   0% \n",
      "libbrotlienc-1.0.9   | 716 KB    | #####1     |  51% \n",
      "libbrotlienc-1.0.9   | 716 KB    | ########## | 100% \n",
      "\n",
      "cloudpickle-2.2.0    | 25 KB     |            |   0% \n",
      "cloudpickle-2.2.0    | 25 KB     | ########## | 100% \n",
      "\n",
      "msys2-conda-epoch-20 | 3 KB      |            |   0% \n",
      "msys2-conda-epoch-20 | 3 KB      | ########## | 100% \n",
      "\n",
      "libblas-3.9.0        | 5.6 MB    |            |   0% \n",
      "libblas-3.9.0        | 5.6 MB    | 6          |   7% \n",
      "libblas-3.9.0        | 5.6 MB    | ##2        |  23% \n",
      "libblas-3.9.0        | 5.6 MB    | ###7       |  37% \n",
      "libblas-3.9.0        | 5.6 MB    | #####      |  50% \n",
      "libblas-3.9.0        | 5.6 MB    | ######6    |  66% \n",
      "libblas-3.9.0        | 5.6 MB    | ########3  |  83% \n",
      "libblas-3.9.0        | 5.6 MB    | #########8 |  98% \n",
      "libblas-3.9.0        | 5.6 MB    | ########## | 100% \n",
      "\n",
      "ca-certificates-2022 | 189 KB    |            |   0% \n",
      "ca-certificates-2022 | 189 KB    | ########## | 100% \n",
      "ca-certificates-2022 | 189 KB    | ########## | 100% \n",
      "\n",
      "m2w64-libwinpthread- | 31 KB     |            |   0% \n",
      "m2w64-libwinpthread- | 31 KB     | ########## | 100% \n",
      "\n",
      "libbrotlidec-1.0.9   | 33 KB     |            |   0% \n",
      "libbrotlidec-1.0.9   | 33 KB     | ########## | 100% \n",
      "\n",
      "m2w64-gcc-libs-core- | 214 KB    |            |   0% \n",
      "m2w64-gcc-libs-core- | 214 KB    | ########## | 100% \n",
      "m2w64-gcc-libs-core- | 214 KB    | ########## | 100% \n",
      "\n",
      "seaborn-0.12.0       | 5 KB      |            |   0% \n",
      "seaborn-0.12.0       | 5 KB      | ########## | 100% \n",
      "\n",
      "pandas-1.4.3         | 11.0 MB   |            |   0% \n",
      "pandas-1.4.3         | 11.0 MB   |            |   1% \n",
      "pandas-1.4.3         | 11.0 MB   | #1         |  11% \n",
      "pandas-1.4.3         | 11.0 MB   | #9         |  19% \n",
      "pandas-1.4.3         | 11.0 MB   | ##7        |  28% \n",
      "pandas-1.4.3         | 11.0 MB   | ###5       |  35% \n",
      "pandas-1.4.3         | 11.0 MB   | ####2      |  43% \n",
      "pandas-1.4.3         | 11.0 MB   | #####1     |  52% \n",
      "pandas-1.4.3         | 11.0 MB   | ######     |  61% \n",
      "pandas-1.4.3         | 11.0 MB   | ######9    |  70% \n",
      "pandas-1.4.3         | 11.0 MB   | #######8   |  79% \n",
      "pandas-1.4.3         | 11.0 MB   | ########8  |  88% \n",
      "pandas-1.4.3         | 11.0 MB   | #########7 |  97% \n",
      "pandas-1.4.3         | 11.0 MB   | ########## | 100% \n",
      "\n",
      "m2w64-gcc-libgfortra | 342 KB    |            |   0% \n",
      "m2w64-gcc-libgfortra | 342 KB    | 4          |   5% \n",
      "m2w64-gcc-libgfortra | 342 KB    | ########## | 100% \n",
      "\n",
      "brotli-1.0.9         | 18 KB     |            |   0% \n",
      "brotli-1.0.9         | 18 KB     | ########## | 100% \n",
      "\n",
      "tqdm-4.64.1          | 82 KB     |            |   0% \n",
      "tqdm-4.64.1          | 82 KB     | ########## | 100% \n",
      "tqdm-4.64.1          | 82 KB     | ########## | 100% \n",
      "\n",
      "scikit-learn-1.1.2   | 7.6 MB    |            |   0% \n",
      "scikit-learn-1.1.2   | 7.6 MB    | 6          |   7% \n",
      "scikit-learn-1.1.2   | 7.6 MB    | #7         |  18% \n",
      "scikit-learn-1.1.2   | 7.6 MB    | ##8        |  29% \n",
      "scikit-learn-1.1.2   | 7.6 MB    | ###8       |  39% \n",
      "scikit-learn-1.1.2   | 7.6 MB    | #####1     |  52% \n",
      "scikit-learn-1.1.2   | 7.6 MB    | ######2    |  62% \n",
      "scikit-learn-1.1.2   | 7.6 MB    | #######2   |  73% \n",
      "scikit-learn-1.1.2   | 7.6 MB    | ########2  |  82% \n",
      "scikit-learn-1.1.2   | 7.6 MB    | #########2 |  93% \n",
      "scikit-learn-1.1.2   | 7.6 MB    | ########## | 100% \n",
      "\n",
      "libbrotlicommon-1.0. | 67 KB     |            |   0% \n",
      "libbrotlicommon-1.0. | 67 KB     | ########## | 100% \n",
      "libbrotlicommon-1.0. | 67 KB     | ########## | 100% \n",
      "\n",
      "libcblas-3.9.0       | 5.6 MB    |            |   0% \n",
      "libcblas-3.9.0       | 5.6 MB    | 9          |   9% \n",
      "libcblas-3.9.0       | 5.6 MB    | ##3        |  23% \n",
      "libcblas-3.9.0       | 5.6 MB    | ###9       |  39% \n",
      "libcblas-3.9.0       | 5.6 MB    | #####4     |  54% \n",
      "libcblas-3.9.0       | 5.6 MB    | ######9    |  69% \n",
      "libcblas-3.9.0       | 5.6 MB    | ########7  |  88% \n",
      "libcblas-3.9.0       | 5.6 MB    | ########## | 100% \n",
      "\n",
      "kiwisolver-1.4.4     | 61 KB     |            |   0% \n",
      "kiwisolver-1.4.4     | 61 KB     | ########## | 100% \n",
      "kiwisolver-1.4.4     | 61 KB     | ########## | 100% \n",
      "\n",
      "joblib-1.2.0         | 205 KB    |            |   0% \n",
      "joblib-1.2.0         | 205 KB    | ########## | 100% \n",
      "joblib-1.2.0         | 205 KB    | ########## | 100% \n",
      "\n",
      "intel-openmp-2022.1. | 3.7 MB    |            |   0% \n",
      "intel-openmp-2022.1. | 3.7 MB    | 9          |   9% \n",
      "intel-openmp-2022.1. | 3.7 MB    | ###6       |  36% \n",
      "intel-openmp-2022.1. | 3.7 MB    | ######4    |  65% \n",
      "intel-openmp-2022.1. | 3.7 MB    | ########8  |  88% \n",
      "intel-openmp-2022.1. | 3.7 MB    | ########## | 100% \n",
      "\n",
      "numpy-1.21.6         | 5.4 MB    |            |   0% \n",
      "numpy-1.21.6         | 5.4 MB    | 6          |   6% \n",
      "numpy-1.21.6         | 5.4 MB    | #9         |  20% \n",
      "numpy-1.21.6         | 5.4 MB    | ###4       |  35% \n",
      "numpy-1.21.6         | 5.4 MB    | #####      |  50% \n",
      "numpy-1.21.6         | 5.4 MB    | ######3    |  63% \n",
      "numpy-1.21.6         | 5.4 MB    | #######7   |  77% \n",
      "numpy-1.21.6         | 5.4 MB    | ########9  |  90% \n",
      "numpy-1.21.6         | 5.4 MB    | ########## | 100% \n",
      "\n",
      "mkl-2022.1.0         | 182.7 MB  |            |   0% \n",
      "mkl-2022.1.0         | 182.7 MB  |            |   0% \n",
      "mkl-2022.1.0         | 182.7 MB  |            |   1% \n",
      "mkl-2022.1.0         | 182.7 MB  |            |   1% \n",
      "mkl-2022.1.0         | 182.7 MB  | 1          |   1% \n",
      "mkl-2022.1.0         | 182.7 MB  | 1          |   2% \n",
      "mkl-2022.1.0         | 182.7 MB  | 2          |   2% \n",
      "mkl-2022.1.0         | 182.7 MB  | 2          |   3% \n",
      "mkl-2022.1.0         | 182.7 MB  | 3          |   3% \n",
      "mkl-2022.1.0         | 182.7 MB  | 3          |   4% \n",
      "mkl-2022.1.0         | 182.7 MB  | 3          |   4% \n",
      "mkl-2022.1.0         | 182.7 MB  | 4          |   4% \n",
      "mkl-2022.1.0         | 182.7 MB  | 4          |   5% \n",
      "mkl-2022.1.0         | 182.7 MB  | 5          |   5% \n",
      "mkl-2022.1.0         | 182.7 MB  | 5          |   6% \n",
      "mkl-2022.1.0         | 182.7 MB  | 6          |   6% \n",
      "mkl-2022.1.0         | 182.7 MB  | 7          |   7% \n",
      "mkl-2022.1.0         | 182.7 MB  | 7          |   8% \n",
      "mkl-2022.1.0         | 182.7 MB  | 8          |   8% \n",
      "mkl-2022.1.0         | 182.7 MB  | 8          |   9% \n",
      "mkl-2022.1.0         | 182.7 MB  | 9          |   9% \n",
      "mkl-2022.1.0         | 182.7 MB  | 9          |  10% \n",
      "mkl-2022.1.0         | 182.7 MB  | #          |  10% \n",
      "mkl-2022.1.0         | 182.7 MB  | #          |  11% \n",
      "mkl-2022.1.0         | 182.7 MB  | #1         |  11% \n",
      "mkl-2022.1.0         | 182.7 MB  | #1         |  12% \n",
      "mkl-2022.1.0         | 182.7 MB  | #2         |  12% \n",
      "mkl-2022.1.0         | 182.7 MB  | #2         |  13% \n",
      "mkl-2022.1.0         | 182.7 MB  | #3         |  13% \n",
      "mkl-2022.1.0         | 182.7 MB  | #3         |  14% \n",
      "mkl-2022.1.0         | 182.7 MB  | #4         |  15% \n",
      "mkl-2022.1.0         | 182.7 MB  | #5         |  15% \n",
      "mkl-2022.1.0         | 182.7 MB  | #5         |  16% \n",
      "mkl-2022.1.0         | 182.7 MB  | #6         |  16% \n",
      "mkl-2022.1.0         | 182.7 MB  | #6         |  17% \n",
      "mkl-2022.1.0         | 182.7 MB  | #7         |  17% \n",
      "mkl-2022.1.0         | 182.7 MB  | #7         |  18% \n",
      "mkl-2022.1.0         | 182.7 MB  | #8         |  18% \n",
      "mkl-2022.1.0         | 182.7 MB  | #9         |  19% \n",
      "mkl-2022.1.0         | 182.7 MB  | #9         |  20% \n",
      "mkl-2022.1.0         | 182.7 MB  | ##         |  20% \n",
      "mkl-2022.1.0         | 182.7 MB  | ##         |  21% \n",
      "mkl-2022.1.0         | 182.7 MB  | ##1        |  21% \n",
      "mkl-2022.1.0         | 182.7 MB  | ##1        |  22% \n",
      "mkl-2022.1.0         | 182.7 MB  | ##2        |  22% \n",
      "mkl-2022.1.0         | 182.7 MB  | ##2        |  23% \n",
      "mkl-2022.1.0         | 182.7 MB  | ##3        |  24% \n",
      "mkl-2022.1.0         | 182.7 MB  | ##4        |  24% \n",
      "mkl-2022.1.0         | 182.7 MB  | ##4        |  25% \n",
      "mkl-2022.1.0         | 182.7 MB  | ##5        |  25% \n",
      "mkl-2022.1.0         | 182.7 MB  | ##5        |  26% \n",
      "mkl-2022.1.0         | 182.7 MB  | ##6        |  26% \n",
      "mkl-2022.1.0         | 182.7 MB  | ##6        |  27% \n",
      "mkl-2022.1.0         | 182.7 MB  | ##7        |  28% \n",
      "mkl-2022.1.0         | 182.7 MB  | ##8        |  28% \n",
      "mkl-2022.1.0         | 182.7 MB  | ##8        |  29% \n",
      "mkl-2022.1.0         | 182.7 MB  | ##9        |  29% \n",
      "mkl-2022.1.0         | 182.7 MB  | ##9        |  30% \n",
      "mkl-2022.1.0         | 182.7 MB  | ###        |  30% \n",
      "mkl-2022.1.0         | 182.7 MB  | ###        |  31% \n",
      "mkl-2022.1.0         | 182.7 MB  | ###1       |  31% \n",
      "mkl-2022.1.0         | 182.7 MB  | ###2       |  32% \n",
      "mkl-2022.1.0         | 182.7 MB  | ###2       |  33% \n",
      "mkl-2022.1.0         | 182.7 MB  | ###3       |  33% \n",
      "mkl-2022.1.0         | 182.7 MB  | ###3       |  34% \n",
      "mkl-2022.1.0         | 182.7 MB  | ###4       |  34% \n",
      "mkl-2022.1.0         | 182.7 MB  | ###4       |  35% \n",
      "mkl-2022.1.0         | 182.7 MB  | ###5       |  35% \n",
      "mkl-2022.1.0         | 182.7 MB  | ###5       |  36% \n",
      "mkl-2022.1.0         | 182.7 MB  | ###6       |  36% \n",
      "mkl-2022.1.0         | 182.7 MB  | ###6       |  37% \n",
      "mkl-2022.1.0         | 182.7 MB  | ###7       |  38% \n",
      "mkl-2022.1.0         | 182.7 MB  | ###8       |  38% \n",
      "mkl-2022.1.0         | 182.7 MB  | ###8       |  39% \n",
      "mkl-2022.1.0         | 182.7 MB  | ###9       |  39% \n",
      "mkl-2022.1.0         | 182.7 MB  | ###9       |  40% \n",
      "mkl-2022.1.0         | 182.7 MB  | ####       |  40% \n",
      "mkl-2022.1.0         | 182.7 MB  | ####       |  41% \n",
      "mkl-2022.1.0         | 182.7 MB  | ####1      |  41% \n",
      "mkl-2022.1.0         | 182.7 MB  | ####1      |  42% \n",
      "mkl-2022.1.0         | 182.7 MB  | ####2      |  42% \n",
      "mkl-2022.1.0         | 182.7 MB  | ####2      |  43% \n",
      "mkl-2022.1.0         | 182.7 MB  | ####3      |  43% \n",
      "mkl-2022.1.0         | 182.7 MB  | ####3      |  44% \n",
      "mkl-2022.1.0         | 182.7 MB  | ####4      |  44% \n",
      "mkl-2022.1.0         | 182.7 MB  | ####4      |  45% \n",
      "mkl-2022.1.0         | 182.7 MB  | ####5      |  46% \n",
      "mkl-2022.1.0         | 182.7 MB  | ####6      |  46% \n",
      "mkl-2022.1.0         | 182.7 MB  | ####6      |  47% \n",
      "mkl-2022.1.0         | 182.7 MB  | ####7      |  47% \n",
      "mkl-2022.1.0         | 182.7 MB  | ####7      |  48% \n",
      "mkl-2022.1.0         | 182.7 MB  | ####8      |  48% \n",
      "mkl-2022.1.0         | 182.7 MB  | ####8      |  49% \n",
      "mkl-2022.1.0         | 182.7 MB  | ####9      |  49% \n",
      "mkl-2022.1.0         | 182.7 MB  | ####9      |  50% \n",
      "mkl-2022.1.0         | 182.7 MB  | #####      |  50% \n",
      "mkl-2022.1.0         | 182.7 MB  | #####      |  51% \n",
      "mkl-2022.1.0         | 182.7 MB  | #####1     |  51% \n",
      "mkl-2022.1.0         | 182.7 MB  | #####1     |  52% \n",
      "mkl-2022.1.0         | 182.7 MB  | #####2     |  52% \n",
      "mkl-2022.1.0         | 182.7 MB  | #####2     |  53% \n",
      "mkl-2022.1.0         | 182.7 MB  | #####2     |  53% \n",
      "mkl-2022.1.0         | 182.7 MB  | #####3     |  53% \n",
      "mkl-2022.1.0         | 182.7 MB  | #####3     |  54% \n",
      "mkl-2022.1.0         | 182.7 MB  | #####4     |  54% \n",
      "mkl-2022.1.0         | 182.7 MB  | #####4     |  55% \n",
      "mkl-2022.1.0         | 182.7 MB  | #####5     |  55% \n",
      "mkl-2022.1.0         | 182.7 MB  | #####5     |  56% \n",
      "mkl-2022.1.0         | 182.7 MB  | #####6     |  56% \n",
      "mkl-2022.1.0         | 182.7 MB  | #####6     |  57% \n",
      "mkl-2022.1.0         | 182.7 MB  | #####6     |  57% \n",
      "mkl-2022.1.0         | 182.7 MB  | #####7     |  57% \n",
      "mkl-2022.1.0         | 182.7 MB  | #####7     |  58% \n",
      "mkl-2022.1.0         | 182.7 MB  | #####8     |  58% \n",
      "mkl-2022.1.0         | 182.7 MB  | #####8     |  59% \n",
      "mkl-2022.1.0         | 182.7 MB  | #####8     |  59% \n",
      "mkl-2022.1.0         | 182.7 MB  | #####9     |  59% \n",
      "mkl-2022.1.0         | 182.7 MB  | #####9     |  60% \n",
      "mkl-2022.1.0         | 182.7 MB  | ######     |  60% \n",
      "mkl-2022.1.0         | 182.7 MB  | ######     |  61% \n",
      "mkl-2022.1.0         | 182.7 MB  | ######1    |  61% \n",
      "mkl-2022.1.0         | 182.7 MB  | ######1    |  62% \n",
      "mkl-2022.1.0         | 182.7 MB  | ######2    |  62% \n",
      "mkl-2022.1.0         | 182.7 MB  | ######2    |  63% \n",
      "mkl-2022.1.0         | 182.7 MB  | ######2    |  63% \n",
      "mkl-2022.1.0         | 182.7 MB  | ######3    |  63% \n",
      "mkl-2022.1.0         | 182.7 MB  | ######3    |  64% \n",
      "mkl-2022.1.0         | 182.7 MB  | ######4    |  64% \n",
      "mkl-2022.1.0         | 182.7 MB  | ######4    |  65% \n",
      "mkl-2022.1.0         | 182.7 MB  | ######5    |  65% \n",
      "mkl-2022.1.0         | 182.7 MB  | ######5    |  66% \n",
      "mkl-2022.1.0         | 182.7 MB  | ######5    |  66% \n",
      "mkl-2022.1.0         | 182.7 MB  | ######6    |  66% \n",
      "mkl-2022.1.0         | 182.7 MB  | ######6    |  67% \n",
      "mkl-2022.1.0         | 182.7 MB  | ######7    |  67% \n",
      "mkl-2022.1.0         | 182.7 MB  | ######7    |  68% \n",
      "mkl-2022.1.0         | 182.7 MB  | ######8    |  68% \n",
      "mkl-2022.1.0         | 182.7 MB  | ######8    |  69% \n",
      "mkl-2022.1.0         | 182.7 MB  | ######9    |  69% \n",
      "mkl-2022.1.0         | 182.7 MB  | ######9    |  70% \n",
      "mkl-2022.1.0         | 182.7 MB  | #######    |  70% \n",
      "mkl-2022.1.0         | 182.7 MB  | #######    |  71% \n",
      "mkl-2022.1.0         | 182.7 MB  | #######1   |  71% \n",
      "mkl-2022.1.0         | 182.7 MB  | #######1   |  72% \n",
      "mkl-2022.1.0         | 182.7 MB  | #######2   |  72% \n",
      "mkl-2022.1.0         | 182.7 MB  | #######2   |  73% \n",
      "mkl-2022.1.0         | 182.7 MB  | #######3   |  73% \n",
      "mkl-2022.1.0         | 182.7 MB  | #######3   |  74% \n",
      "mkl-2022.1.0         | 182.7 MB  | #######4   |  74% \n",
      "mkl-2022.1.0         | 182.7 MB  | #######4   |  75% \n",
      "mkl-2022.1.0         | 182.7 MB  | #######5   |  75% \n",
      "mkl-2022.1.0         | 182.7 MB  | #######5   |  76% \n",
      "mkl-2022.1.0         | 182.7 MB  | #######6   |  76% \n",
      "mkl-2022.1.0         | 182.7 MB  | #######6   |  77% \n",
      "mkl-2022.1.0         | 182.7 MB  | #######7   |  77% \n",
      "mkl-2022.1.0         | 182.7 MB  | #######8   |  78% \n",
      "mkl-2022.1.0         | 182.7 MB  | #######8   |  79% \n",
      "mkl-2022.1.0         | 182.7 MB  | #######9   |  79% \n",
      "mkl-2022.1.0         | 182.7 MB  | #######9   |  80% \n",
      "mkl-2022.1.0         | 182.7 MB  | ########   |  80% \n",
      "mkl-2022.1.0         | 182.7 MB  | ########   |  81% \n",
      "mkl-2022.1.0         | 182.7 MB  | ########1  |  81% \n",
      "mkl-2022.1.0         | 182.7 MB  | ########1  |  82% \n",
      "mkl-2022.1.0         | 182.7 MB  | ########2  |  82% \n",
      "mkl-2022.1.0         | 182.7 MB  | ########2  |  83% \n",
      "mkl-2022.1.0         | 182.7 MB  | ########3  |  83% \n",
      "mkl-2022.1.0         | 182.7 MB  | ########3  |  84% \n",
      "mkl-2022.1.0         | 182.7 MB  | ########4  |  84% \n",
      "mkl-2022.1.0         | 182.7 MB  | ########5  |  85% \n",
      "mkl-2022.1.0         | 182.7 MB  | ########5  |  86% \n",
      "mkl-2022.1.0         | 182.7 MB  | ########6  |  86% \n",
      "mkl-2022.1.0         | 182.7 MB  | ########6  |  87% \n",
      "mkl-2022.1.0         | 182.7 MB  | ########7  |  87% \n",
      "mkl-2022.1.0         | 182.7 MB  | ########7  |  88% \n",
      "mkl-2022.1.0         | 182.7 MB  | ########8  |  88% \n",
      "mkl-2022.1.0         | 182.7 MB  | ########8  |  89% \n",
      "mkl-2022.1.0         | 182.7 MB  | ########9  |  89% \n",
      "mkl-2022.1.0         | 182.7 MB  | ########9  |  90% \n",
      "mkl-2022.1.0         | 182.7 MB  | #########  |  90% \n",
      "mkl-2022.1.0         | 182.7 MB  | #########  |  91% \n",
      "mkl-2022.1.0         | 182.7 MB  | #########1 |  91% \n",
      "mkl-2022.1.0         | 182.7 MB  | #########1 |  92% \n",
      "mkl-2022.1.0         | 182.7 MB  | #########2 |  92% \n",
      "mkl-2022.1.0         | 182.7 MB  | #########2 |  93% \n",
      "mkl-2022.1.0         | 182.7 MB  | #########3 |  93% \n",
      "mkl-2022.1.0         | 182.7 MB  | #########3 |  94% \n",
      "mkl-2022.1.0         | 182.7 MB  | #########4 |  95% \n",
      "mkl-2022.1.0         | 182.7 MB  | #########5 |  95% \n",
      "mkl-2022.1.0         | 182.7 MB  | #########5 |  96% \n",
      "mkl-2022.1.0         | 182.7 MB  | #########6 |  96% \n",
      "mkl-2022.1.0         | 182.7 MB  | #########6 |  97% \n",
      "mkl-2022.1.0         | 182.7 MB  | #########7 |  97% \n",
      "mkl-2022.1.0         | 182.7 MB  | #########7 |  98% \n",
      "mkl-2022.1.0         | 182.7 MB  | #########8 |  98% \n",
      "mkl-2022.1.0         | 182.7 MB  | #########8 |  99% \n",
      "mkl-2022.1.0         | 182.7 MB  | #########9 |  99% \n",
      "mkl-2022.1.0         | 182.7 MB  | #########9 | 100% \n",
      "mkl-2022.1.0         | 182.7 MB  | ########## | 100% \n",
      "\n",
      "matplotlib-base-3.5. | 7.4 MB    |            |   0% \n",
      "matplotlib-base-3.5. | 7.4 MB    |            |   0% \n",
      "matplotlib-base-3.5. | 7.4 MB    | #4         |  15% \n",
      "matplotlib-base-3.5. | 7.4 MB    | ##4        |  25% \n",
      "matplotlib-base-3.5. | 7.4 MB    | ###4       |  35% \n",
      "matplotlib-base-3.5. | 7.4 MB    | ####5      |  45% \n",
      "matplotlib-base-3.5. | 7.4 MB    | #####4     |  55% \n",
      "matplotlib-base-3.5. | 7.4 MB    | ######4    |  65% \n",
      "matplotlib-base-3.5. | 7.4 MB    | #######7   |  77% \n",
      "matplotlib-base-3.5. | 7.4 MB    | ########8  |  88% \n",
      "matplotlib-base-3.5. | 7.4 MB    | ########## | 100% \n",
      "matplotlib-base-3.5. | 7.4 MB    | ########## | 100% \n",
      "\n",
      "libtiff-4.0.9        | 828 KB    |            |   0% \n",
      "libtiff-4.0.9        | 828 KB    | 7          |   8% \n",
      "libtiff-4.0.9        | 828 KB    | ########## | 100% \n",
      "libtiff-4.0.9        | 828 KB    | ########## | 100% \n",
      "\n",
      "scipy-1.8.1          | 27.2 MB   |            |   0% \n",
      "scipy-1.8.1          | 27.2 MB   | 1          |   1% \n",
      "scipy-1.8.1          | 27.2 MB   | 4          |   5% \n",
      "scipy-1.8.1          | 27.2 MB   | 8          |   8% \n",
      "scipy-1.8.1          | 27.2 MB   | #1         |  12% \n",
      "scipy-1.8.1          | 27.2 MB   | #5         |  15% \n",
      "scipy-1.8.1          | 27.2 MB   | #9         |  19% \n",
      "scipy-1.8.1          | 27.2 MB   | ##2        |  23% \n",
      "scipy-1.8.1          | 27.2 MB   | ##6        |  27% \n",
      "scipy-1.8.1          | 27.2 MB   | ###        |  30% \n",
      "scipy-1.8.1          | 27.2 MB   | ###3       |  34% \n",
      "scipy-1.8.1          | 27.2 MB   | ###7       |  37% \n",
      "scipy-1.8.1          | 27.2 MB   | ####1      |  41% \n",
      "scipy-1.8.1          | 27.2 MB   | ####4      |  45% \n",
      "scipy-1.8.1          | 27.2 MB   | ####8      |  48% \n",
      "scipy-1.8.1          | 27.2 MB   | #####1     |  52% \n",
      "scipy-1.8.1          | 27.2 MB   | #####5     |  55% \n",
      "scipy-1.8.1          | 27.2 MB   | #####9     |  59% \n",
      "scipy-1.8.1          | 27.2 MB   | ######3    |  63% \n",
      "scipy-1.8.1          | 27.2 MB   | ######6    |  67% \n",
      "scipy-1.8.1          | 27.2 MB   | #######    |  70% \n",
      "scipy-1.8.1          | 27.2 MB   | #######3   |  74% \n",
      "scipy-1.8.1          | 27.2 MB   | #######7   |  78% \n",
      "scipy-1.8.1          | 27.2 MB   | ########1  |  81% \n",
      "scipy-1.8.1          | 27.2 MB   | ########4  |  85% \n",
      "scipy-1.8.1          | 27.2 MB   | ########8  |  89% \n",
      "scipy-1.8.1          | 27.2 MB   | #########2 |  92% \n",
      "scipy-1.8.1          | 27.2 MB   | #########5 |  96% \n",
      "scipy-1.8.1          | 27.2 MB   | #########9 | 100% \n",
      "scipy-1.8.1          | 27.2 MB   | ########## | 100% \n",
      "\n",
      "seaborn-base-0.12.0  | 216 KB    |            |   0% \n",
      "seaborn-base-0.12.0  | 216 KB    | ########## | 100% \n",
      "seaborn-base-0.12.0  | 216 KB    | ########## | 100% \n",
      "\n",
      "m2w64-gcc-libs-5.3.0 | 520 KB    |            |   0% \n",
      "m2w64-gcc-libs-5.3.0 | 520 KB    | #####2     |  52% \n",
      "m2w64-gcc-libs-5.3.0 | 520 KB    | ########## | 100% \n",
      "\n",
      "m2w64-gmp-6.1.0      | 726 KB    |            |   0% \n",
      "m2w64-gmp-6.1.0      | 726 KB    | ####4      |  44% \n",
      "m2w64-gmp-6.1.0      | 726 KB    | ########## | 100% \n",
      "m2w64-gmp-6.1.0      | 726 KB    | ########## | 100% \n",
      "\n",
      "openssl-1.1.1q       | 5.8 MB    |            |   0% \n",
      "openssl-1.1.1q       | 5.8 MB    | 9          |   9% \n",
      "openssl-1.1.1q       | 5.8 MB    | ##4        |  25% \n",
      "openssl-1.1.1q       | 5.8 MB    | ####1      |  41% \n",
      "openssl-1.1.1q       | 5.8 MB    | #####9     |  59% \n",
      "openssl-1.1.1q       | 5.8 MB    | #######6   |  76% \n",
      "openssl-1.1.1q       | 5.8 MB    | #########3 |  93% \n",
      "openssl-1.1.1q       | 5.8 MB    | ########## | 100% \n",
      "\n",
      "patsy-0.5.3          | 189 KB    |            |   0% \n",
      "patsy-0.5.3          | 189 KB    | ########## | 100% \n",
      "patsy-0.5.3          | 189 KB    | ########## | 100% \n",
      "\n",
      "threadpoolctl-3.1.0  | 18 KB     |            |   0% \n",
      "threadpoolctl-3.1.0  | 18 KB     | ########## | 100% \n",
      "\n",
      "numba-0.55.1         | 3.4 MB    |            |   0% \n",
      "numba-0.55.1         | 3.4 MB    | 3          |   4% \n",
      "numba-0.55.1         | 3.4 MB    | ###1       |  31% \n",
      "numba-0.55.1         | 3.4 MB    | ######     |  60% \n",
      "numba-0.55.1         | 3.4 MB    | ########9  |  90% \n",
      "numba-0.55.1         | 3.4 MB    | ########## | 100% \n",
      "\n",
      "tk-8.6.12            | 3.5 MB    |            |   0% \n",
      "tk-8.6.12            | 3.5 MB    | #6         |  16% \n",
      "tk-8.6.12            | 3.5 MB    | ####4      |  45% \n",
      "tk-8.6.12            | 3.5 MB    | #######6   |  77% \n",
      "tk-8.6.12            | 3.5 MB    | ########## | 100% \n",
      "\n",
      "pillow-9.2.0         | 908 KB    |            |   0% \n",
      "pillow-9.2.0         | 908 KB    | ######1    |  62% \n",
      "pillow-9.2.0         | 908 KB    | ########## | 100% \n",
      "\n",
      "matplotlib-3.5.2     | 29 KB     |            |   0% \n",
      "matplotlib-3.5.2     | 29 KB     | ########## | 100% \n",
      "\n",
      "llvmlite-0.38.0      | 13.3 MB   |            |   0% \n",
      "llvmlite-0.38.0      | 13.3 MB   | 3          |   4% \n",
      "llvmlite-0.38.0      | 13.3 MB   | #          |  10% \n",
      "llvmlite-0.38.0      | 13.3 MB   | #6         |  16% \n",
      "llvmlite-0.38.0      | 13.3 MB   | ##1        |  22% \n",
      "llvmlite-0.38.0      | 13.3 MB   | ##8        |  29% \n",
      "llvmlite-0.38.0      | 13.3 MB   | ###5       |  35% \n",
      "llvmlite-0.38.0      | 13.3 MB   | ####2      |  43% \n",
      "llvmlite-0.38.0      | 13.3 MB   | ####9      |  50% \n",
      "llvmlite-0.38.0      | 13.3 MB   | #####7     |  57% \n",
      "llvmlite-0.38.0      | 13.3 MB   | ######5    |  66% \n",
      "llvmlite-0.38.0      | 13.3 MB   | #######3   |  73% \n",
      "llvmlite-0.38.0      | 13.3 MB   | ########   |  80% \n",
      "llvmlite-0.38.0      | 13.3 MB   | ########7  |  88% \n",
      "llvmlite-0.38.0      | 13.3 MB   | #########4 |  95% \n",
      "llvmlite-0.38.0      | 13.3 MB   | ########## | 100% \n",
      "\n",
      "freetype-2.10.4      | 489 KB    |            |   0% \n",
      "freetype-2.10.4      | 489 KB    | 3          |   3% \n",
      "freetype-2.10.4      | 489 KB    | ########## | 100% \n",
      "freetype-2.10.4      | 489 KB    | ########## | 100% \n",
      "\n",
      "cycler-0.11.0        | 10 KB     |            |   0% \n",
      "cycler-0.11.0        | 10 KB     | ########## | 100% \n",
      "\n",
      "statsmodels-0.13.2   | 10.3 MB   |            |   0% \n",
      "statsmodels-0.13.2   | 10.3 MB   | 5          |   6% \n",
      "statsmodels-0.13.2   | 10.3 MB   | #5         |  16% \n",
      "statsmodels-0.13.2   | 10.3 MB   | ##4        |  25% \n",
      "statsmodels-0.13.2   | 10.3 MB   | ###4       |  34% \n",
      "statsmodels-0.13.2   | 10.3 MB   | ####3      |  44% \n",
      "statsmodels-0.13.2   | 10.3 MB   | #####3     |  53% \n",
      "statsmodels-0.13.2   | 10.3 MB   | ######2    |  63% \n",
      "statsmodels-0.13.2   | 10.3 MB   | #######2   |  73% \n",
      "statsmodels-0.13.2   | 10.3 MB   | ########2  |  83% \n",
      "statsmodels-0.13.2   | 10.3 MB   | #########2 |  93% \n",
      "statsmodels-0.13.2   | 10.3 MB   | ########## | 100% \n",
      "\n",
      "munkres-1.1.4        | 12 KB     |            |   0% \n",
      "munkres-1.1.4        | 12 KB     | ########## | 100% \n",
      "\n",
      "brotli-bin-1.0.9     | 21 KB     |            |   0% \n",
      "brotli-bin-1.0.9     | 21 KB     | ########## | 100% \n",
      "\n",
      "certifi-2022.9.24    | 155 KB    |            |   0% \n",
      "certifi-2022.9.24    | 155 KB    | ########## | 100% \n",
      "certifi-2022.9.24    | 155 KB    | ########## | 100% \n",
      "\n",
      "liblapack-3.9.0      | 5.6 MB    |            |   0% \n",
      "liblapack-3.9.0      | 5.6 MB    | 8          |   8% \n",
      "liblapack-3.9.0      | 5.6 MB    | ##3        |  24% \n",
      "liblapack-3.9.0      | 5.6 MB    | ###6       |  37% \n",
      "liblapack-3.9.0      | 5.6 MB    | #####2     |  52% \n",
      "liblapack-3.9.0      | 5.6 MB    | ######6    |  67% \n",
      "liblapack-3.9.0      | 5.6 MB    | ########1  |  82% \n",
      "liblapack-3.9.0      | 5.6 MB    | #########5 |  96% \n",
      "liblapack-3.9.0      | 5.6 MB    | ########## | 100% \n",
      "Preparing transaction: ...working... done\n",
      "Verifying transaction: ...working... done\n",
      "Executing transaction: ...working... done\n",
      "Retrieving notices: ...working... done\n"
     ]
    }
   ],
   "source": [
    "!conda install -c conda-forge --yes pandas scikit-learn matplotlib missingno imbalanced-learn lightgbm shap"
   ]
  },
  {
   "cell_type": "markdown",
   "metadata": {},
   "source": [
    "### venv\n",
    "\n",
    "Jeżeli używasz zwykłego venv'a (**zdecydowanie niezalecane, szczególnie na Windowsie**):"
   ]
  },
  {
   "cell_type": "code",
   "execution_count": null,
   "metadata": {},
   "outputs": [],
   "source": [
    "!pip install --yes pandas scikit-learn matplotlib missingno imbalanced-learn lightgbm shap"
   ]
  },
  {
   "cell_type": "markdown",
   "metadata": {},
   "source": [
    "W przypadku własnego komputera, jeżeli instalowałeś z terminala, pamiętaj, aby zarejestrować aktualne środowisko wirtualne jako kernel (środowisko uruchomieniowe) dla Jupyter Notebooka. Wybierz go jako używany kernel w menu na górze notebooka (nazwa jak w komendzie poniżej)."
   ]
  },
  {
   "cell_type": "code",
   "execution_count": null,
   "metadata": {},
   "outputs": [],
   "source": [
    "!ipython kernel install --user --name \"PSI\""
   ]
  },
  {
   "cell_type": "markdown",
   "metadata": {},
   "source": [
    "# Przygotowanie danych"
   ]
  },
  {
   "cell_type": "markdown",
   "metadata": {},
   "source": [
    "## Ładowanie danych tabelarycznych"
   ]
  },
  {
   "cell_type": "markdown",
   "metadata": {},
   "source": [
    "Jeżeli pracujesz na Google Colab, zacznij od przeniesienia dwóch plików CSV, które zostały dołączone do laboratorium (`titanic.csv` oraz `titanic_test.csv`), do folderu `/content`. Nie musisz ich umieszczać w `/content/sample_data` - ważne, aby znalazły się w `/content`. Jeżeli pracujesz lokalnie, to wystarczy, że pliki te będą obok tego notebooka.\n",
    "\n",
    "Pliki te to dwa zbiory, jeden jest treningowy (czyli z etykietą klasy), a drugi tych etykiet nie posiada. Celem jest oszacowanie na podstawie dostępnych danych tabelarycznych, czy dany pasażer Titanica przeżył katastrofę (etykieta ma wtedy wartość 1), czy miał mniej szczęścia. Dokładny zestaw cech, którymi będziemy dysponować, omówimy sobie w dalszej części laboratorium.\n",
    "\n",
    "Wczytajmy dane `titanic.csv` do zmiennej `train_data`."
   ]
  },
  {
   "cell_type": "code",
   "execution_count": 5,
   "metadata": {},
   "outputs": [],
   "source": [
    "import pandas as pd\n",
    "\n",
    "train_data = pd.read_csv(\"titanic.csv\")"
   ]
  },
  {
   "cell_type": "markdown",
   "metadata": {},
   "source": [
    "Zobaczmy jakie dane znajdują się w naszej tabeli. Wykorzystajmy do tego metodę `info()`."
   ]
  },
  {
   "cell_type": "code",
   "execution_count": 6,
   "metadata": {},
   "outputs": [
    {
     "name": "stdout",
     "output_type": "stream",
     "text": [
      "<class 'pandas.core.frame.DataFrame'>\n",
      "RangeIndex: 891 entries, 0 to 890\n",
      "Data columns (total 12 columns):\n",
      " #   Column       Non-Null Count  Dtype  \n",
      "---  ------       --------------  -----  \n",
      " 0   PassengerId  891 non-null    int64  \n",
      " 1   Survived     891 non-null    int64  \n",
      " 2   Pclass       891 non-null    int64  \n",
      " 3   Name         891 non-null    object \n",
      " 4   Sex          891 non-null    object \n",
      " 5   Age          714 non-null    float64\n",
      " 6   SibSp        891 non-null    int64  \n",
      " 7   Parch        891 non-null    int64  \n",
      " 8   Ticket       891 non-null    object \n",
      " 9   Fare         891 non-null    float64\n",
      " 10  Cabin        204 non-null    object \n",
      " 11  Embarked     889 non-null    object \n",
      "dtypes: float64(2), int64(5), object(5)\n",
      "memory usage: 83.7+ KB\n"
     ]
    }
   ],
   "source": [
    "train_data.info()"
   ]
  },
  {
   "cell_type": "markdown",
   "metadata": {},
   "source": [
    "Szczegółowy opis znaczenia kolumn znajdziesz na [pod linkiem](https://www.kaggle.com/competitions/titanic/data?select=train.csv). Zapoznaj się z akapitem **Data Dictionary**. \n",
    "\n",
    "## Wstępna analiza danych\n",
    "\n",
    "W przytłaczającej większości przypadków, zanim zaczniesz robić jakąkolwiek predykcję czy analizę danych, dobrze jest zapoznać się z nimi, z ich kodowaniem i znaczeniem. Kolejnym istotnym aspektem jest typ danych. Otóż nie każdy klasyfikator nadaje się do każdego typu.\n",
    "\n",
    "Wyświetlmy teraz kilka przykładowych rekordów z samej góry korzystając z metody `head()`."
   ]
  },
  {
   "cell_type": "code",
   "execution_count": 7,
   "metadata": {},
   "outputs": [
    {
     "data": {
      "text/plain": "   PassengerId  Survived  Pclass  \\\n0            1         0       3   \n1            2         1       1   \n2            3         1       3   \n3            4         1       1   \n4            5         0       3   \n\n                                                Name     Sex   Age  SibSp  \\\n0                            Braund, Mr. Owen Harris    male  22.0      1   \n1  Cumings, Mrs. John Bradley (Florence Briggs Th...  female  38.0      1   \n2                             Heikkinen, Miss. Laina  female  26.0      0   \n3       Futrelle, Mrs. Jacques Heath (Lily May Peel)  female  35.0      1   \n4                           Allen, Mr. William Henry    male  35.0      0   \n\n   Parch            Ticket     Fare Cabin Embarked  \n0      0         A/5 21171   7.2500   NaN        S  \n1      0          PC 17599  71.2833   C85        C  \n2      0  STON/O2. 3101282   7.9250   NaN        S  \n3      0            113803  53.1000  C123        S  \n4      0            373450   8.0500   NaN        S  ",
      "text/html": "<div>\n<style scoped>\n    .dataframe tbody tr th:only-of-type {\n        vertical-align: middle;\n    }\n\n    .dataframe tbody tr th {\n        vertical-align: top;\n    }\n\n    .dataframe thead th {\n        text-align: right;\n    }\n</style>\n<table border=\"1\" class=\"dataframe\">\n  <thead>\n    <tr style=\"text-align: right;\">\n      <th></th>\n      <th>PassengerId</th>\n      <th>Survived</th>\n      <th>Pclass</th>\n      <th>Name</th>\n      <th>Sex</th>\n      <th>Age</th>\n      <th>SibSp</th>\n      <th>Parch</th>\n      <th>Ticket</th>\n      <th>Fare</th>\n      <th>Cabin</th>\n      <th>Embarked</th>\n    </tr>\n  </thead>\n  <tbody>\n    <tr>\n      <th>0</th>\n      <td>1</td>\n      <td>0</td>\n      <td>3</td>\n      <td>Braund, Mr. Owen Harris</td>\n      <td>male</td>\n      <td>22.0</td>\n      <td>1</td>\n      <td>0</td>\n      <td>A/5 21171</td>\n      <td>7.2500</td>\n      <td>NaN</td>\n      <td>S</td>\n    </tr>\n    <tr>\n      <th>1</th>\n      <td>2</td>\n      <td>1</td>\n      <td>1</td>\n      <td>Cumings, Mrs. John Bradley (Florence Briggs Th...</td>\n      <td>female</td>\n      <td>38.0</td>\n      <td>1</td>\n      <td>0</td>\n      <td>PC 17599</td>\n      <td>71.2833</td>\n      <td>C85</td>\n      <td>C</td>\n    </tr>\n    <tr>\n      <th>2</th>\n      <td>3</td>\n      <td>1</td>\n      <td>3</td>\n      <td>Heikkinen, Miss. Laina</td>\n      <td>female</td>\n      <td>26.0</td>\n      <td>0</td>\n      <td>0</td>\n      <td>STON/O2. 3101282</td>\n      <td>7.9250</td>\n      <td>NaN</td>\n      <td>S</td>\n    </tr>\n    <tr>\n      <th>3</th>\n      <td>4</td>\n      <td>1</td>\n      <td>1</td>\n      <td>Futrelle, Mrs. Jacques Heath (Lily May Peel)</td>\n      <td>female</td>\n      <td>35.0</td>\n      <td>1</td>\n      <td>0</td>\n      <td>113803</td>\n      <td>53.1000</td>\n      <td>C123</td>\n      <td>S</td>\n    </tr>\n    <tr>\n      <th>4</th>\n      <td>5</td>\n      <td>0</td>\n      <td>3</td>\n      <td>Allen, Mr. William Henry</td>\n      <td>male</td>\n      <td>35.0</td>\n      <td>0</td>\n      <td>0</td>\n      <td>373450</td>\n      <td>8.0500</td>\n      <td>NaN</td>\n      <td>S</td>\n    </tr>\n  </tbody>\n</table>\n</div>"
     },
     "execution_count": 7,
     "metadata": {},
     "output_type": "execute_result"
    }
   ],
   "source": [
    "train_data.head()"
   ]
  },
  {
   "cell_type": "markdown",
   "metadata": {},
   "source": [
    "Jeżeli potrzebujesz szybko stwierdzić, ile dane zawierają rekordów i kolumn, pomocna okazuje się opcja `shape`:"
   ]
  },
  {
   "cell_type": "code",
   "execution_count": 8,
   "metadata": {},
   "outputs": [
    {
     "data": {
      "text/plain": "(891, 12)"
     },
     "execution_count": 8,
     "metadata": {},
     "output_type": "execute_result"
    }
   ],
   "source": [
    "train_data.shape"
   ]
  },
  {
   "cell_type": "markdown",
   "metadata": {},
   "source": [
    "## Dane kategoryczne\n",
    "\n",
    "Już możemy wysnuć pierwsze wnioski i zauważyć pierwszy problem. Istnieją dwa rodzaje danych: kategoryczne (z ang. *categorical data*) oraz numeryczne (z ang. *numerical data*). Ten podział jest bardzo istotny. Dane numeryczne to żadna niespodzianka, po prostu mają swoją wartość, jak np. **Fare**, czyli opłata za rejs. Dane kategoryczne to takie, którym w większości przypadków nie można przyporządkować wartości liczbowej (wyjątkiem są dane kategoryczne uporządkowane).\n",
    "\n",
    "Wyobraź sobie, że klasyfikujesz kolory i masz wartości RGB. Nie możesz ich zakodować jako np.: R = 0, G = 1 i B = 2. Stwierdzasz tym samym, że w jakimś sensie R < G, R < B i G < B. Nie ma powodu tak sądzić. Istnieje jednak pewien wyjątek. Spójrz na kolumnę **Sex**. Z opisu danych wiesz, że przyjmuje ona dokładnie dwie wartości kategoryczne: *Male* oraz *Female*. W takiej sytuacji wolno Ci zakodować te wartości numerycznie jako 0 i 1. Stwierdzasz tym samym, że ktoś jest **male** albo nie jest. Bez straty w ogólnej definicji problemu możesz zakodować odwrotnie i stwierdzić, że ktoś jest **female** albo nie jest.\n",
    "\n",
    "Wykonaj poniższy kod. Zauważ, że takie zakodowanie cechy miało wpływ na zużycie pamięci (`memory usage`). Jak myślisz, dlaczego?"
   ]
  },
  {
   "cell_type": "code",
   "execution_count": null,
   "metadata": {},
   "outputs": [],
   "source": [
    "from pandas import Categorical\n",
    "\n",
    "train_data[\"Sex\"] = Categorical(train_data[\"Sex\"]).codes\n",
    "train_data.info()"
   ]
  },
  {
   "cell_type": "markdown",
   "metadata": {},
   "source": [
    "Posiadamy jeszcze jedną kolumnę, która może być dla nas istotna, a zawiera nie dwie, tylko trzy wartości kategoryczne. Jest to kolumna **Embarked**, oznaczająca port, w którym dany pasażer wsiadł. Jak już ustaliliśmy, nie można jej zakodować jako np. 0, 1, 2. Można natomiast usunąć kolumnę **Embarked** i stworzyć trzy nowe, zawierające tylko wartości 0 oraz 1, gdzie 1 oznacza, że pasażer wsiadł w danym porcie. Taką technikę nazywamy z ang. *one-hot encoding*.\n",
    "\n",
    "Zastanów się, co nam daje ta technika, z punktu widzenia wykonywania obliczeń na danych?"
   ]
  },
  {
   "cell_type": "code",
   "execution_count": null,
   "metadata": {},
   "outputs": [],
   "source": [
    "from pandas import get_dummies\n",
    "\n",
    "train_data = get_dummies(data=train_data, columns=[\"Embarked\"])\n",
    "train_data.head()"
   ]
  },
  {
   "cell_type": "markdown",
   "metadata": {},
   "source": [
    "## Wartości brakujące"
   ]
  },
  {
   "cell_type": "markdown",
   "metadata": {},
   "source": [
    "Niestety, ale nasze dane trenujące nie są kompletne. Możesz się o tym przekonać, wykonując poniższy kod:"
   ]
  },
  {
   "cell_type": "code",
   "execution_count": null,
   "metadata": {},
   "outputs": [],
   "source": [
    "train_data.isnull().sum()"
   ]
  },
  {
   "cell_type": "markdown",
   "metadata": {},
   "source": [
    "Możesz zauważyć, że w naszych danych 177 rekordów (z 891) posiada brakującą informację na temat wieku. Z kolei w 687 rekordach brakuje informacji o numerze kabiny. Biblioteką, która pozwala na zwizualizowanie tych braków, jest *missingno*."
   ]
  },
  {
   "cell_type": "markdown",
   "metadata": {},
   "source": [
    "**Zadanie 1 (0.5p.)**\n",
    "\n",
    "Stwórz wykres słupkowy brakujących danych zawartych w `train_data` wykorzystując *missingno*."
   ]
  },
  {
   "cell_type": "code",
   "execution_count": null,
   "metadata": {},
   "outputs": [],
   "source": [
    "# your_code_here"
   ]
  },
  {
   "cell_type": "markdown",
   "metadata": {},
   "source": [
    "Skupmy się na kolumnie **Cabin**. Nie będzie nam potrzebna w dalszej predykcji. Po pierwsze są to wartości kategoryczne i jako takie niewiele wnoszą (i tak dysponujemy takimi danymi jak klasa czy opłata). Możemy więc usunąć całą kolumnę."
   ]
  },
  {
   "cell_type": "code",
   "execution_count": null,
   "metadata": {},
   "outputs": [],
   "source": [
    "train_data = train_data.drop(columns=\"Cabin\")"
   ]
  },
  {
   "cell_type": "markdown",
   "metadata": {},
   "source": [
    "Z wiekiem (kolumna **Age**) problem jest większy. Danych brakuje w wielu rekordach, ale nie na tyle wielu, aby tę kolumnę usunąć. Co więcej, może ona być istotna w dalszej predykcji. Musimy się więc zastanowić nad strategią rozwiązania tego problemu. \n",
    "\n",
    "Z brakującymi danymi możemy sobie radzić w sposób następujący:\n",
    "1. Usunąć kolumnę, która zawiera brakujące wartości,\n",
    "1. Usunąć wiersze, w których brakuje wartości,\n",
    "1. Zastąpić brakujące wartości innymi, np. średnią z kolumny, medianą albo wielkością stałą,\n",
    "1. Przewidzieć brakujące wartości wykorzystując odpowiedni model uczenia maszynowego.\n",
    "\n",
    "Ustaliliśmy przed chwilą, że w tym przypadku nie interesują nas rozwiązania 1 oraz 2. Spróbujmy rozwiązania numer 3."
   ]
  },
  {
   "cell_type": "markdown",
   "metadata": {},
   "source": [
    "**Zadanie 2 (0.5p.)**\n",
    "\n",
    "Zastąp brakujące dane w kolumnie **Age** średnią z tej kolumny. \n",
    "\n",
    "**UWAGA** - jeśli wykonujesz operację tego rodzaju, to warto zostawić oryginalne dane, np. żeby poeksperymentować z różnymi metodami uzupełniania danych. Tak też należy zrobić w tym przypadku."
   ]
  },
  {
   "cell_type": "code",
   "execution_count": null,
   "metadata": {},
   "outputs": [],
   "source": [
    "data2 = train_data.copy(deep=True)\n",
    "# your_code_here"
   ]
  },
  {
   "cell_type": "markdown",
   "metadata": {},
   "source": [
    "Docelowo będziemy chcieli zastosować strategię numer 4, gdyż dysponujemy odpowiednią liczbą przykładów uczących. Zajmiemy się tym w następnej części laboratorium. \n",
    "\n",
    "## Korelacja atrybutów\n",
    "\n",
    "Analizując pozostałe kolumny, można dojść do wniosku, że imię nie powinno mieć znaczenia w predykcji. Numer biletu to dane kategoryczne, których nie zakodujemy numerycznie. Najzwyczajniej nie miałoby sensu generowanie 891 nowych kolumn. W ramach laboratorium dotyczącego przetwarzania języka dowiemy się, jak można tego rodzaju dane wykorzystać, ale w tym laboratorium po prostu je pominiemy."
   ]
  },
  {
   "cell_type": "markdown",
   "metadata": {},
   "source": [
    "**Zadanie 3 (0.5p.)**\n",
    "\n",
    "Usuń kolumny **Name** oraz **Ticket** ze zbioru trenującego."
   ]
  },
  {
   "cell_type": "code",
   "execution_count": null,
   "metadata": {},
   "outputs": [],
   "source": [
    "# your_code_here"
   ]
  },
  {
   "cell_type": "markdown",
   "metadata": {},
   "source": [
    "Ale jest jeszcze coś. Pomoże nam w tym macierz korelacji. Wykonaj poniższy kod."
   ]
  },
  {
   "cell_type": "code",
   "execution_count": null,
   "metadata": {},
   "outputs": [],
   "source": [
    "from seaborn import heatmap\n",
    "\n",
    "heatmap(train_data.corr())\n",
    "train_data.corr()"
   ]
  },
  {
   "cell_type": "markdown",
   "metadata": {},
   "source": [
    "To, co widzisz to macierz korelacji (pod spodem reprezentacja graficzna). Współczynniki w macierzy korelacji to tzw. współczynniki korelacji [Pearsona](https://www.statisticshowto.com/probability-and-statistics/correlation-coefficient-formula/). Współczynnik ten oznaczamy jako *r* i przyjmuje on wartości z przedziału [-1, 1], gdzie -1 oznacza silną korelację ujemną (wysokim wartościom jednej cechy odpowiadają niskie drugiej lub odwrotnie), a 1 oznacza silną korelację dodatnią (wysokim wartościom jednej cechy odpowiadają wysokie wartości drugiej i odwrotnie). Taka macierz pozwala nam zweryfikować, czy w naszym zbiorze danych nie ma redundancji. Bardzo często korzystamy wówczas z wartości bezwzględnej *r*, gdyż interesuje nas fakt czy korelacja w ogóle jest, czy jej nie ma.\n",
    "\n",
    "W tworzeniu modelu predykcji, najbardziej pożądane cechy posiadają następujące własności:\n",
    "- mają niski współczynnik korelacji z innymi cechami (chcemy, aby kolumny niosły jak najwięcej różnych informacji)\n",
    "- wysoki współczynnik korelacji z klasą, którą chcemy przewidywać (chcemy, aby kolumny z cechami mówiły jak najwięcej o klasie, którą będziemy przewidywać)\n",
    "\n",
    "Analizując powyższe macierze, zauważyć można, że kolumna **PassengerId** nie jest silnie skorelowana w zasadzie z niczym, a w szczególności z **Age** oraz **Survived** (która to kolumna będzie nas później interesować)."
   ]
  },
  {
   "cell_type": "code",
   "execution_count": null,
   "metadata": {},
   "outputs": [],
   "source": [
    "train_data = train_data.drop(columns=\"PassengerId\")"
   ]
  },
  {
   "cell_type": "markdown",
   "metadata": {},
   "source": [
    "Mamy jeszcze problem. Przed zakodowaniem kolumny **Embarked** nie sprawdziliśmy, czy przypadkiem nie brakowało tam jakichś wartości. Jeżeli brakowało, to będziemy mieli wiersze, gdzie w każdej nowej kolumnie **Embarked** (C, Q, S) będzie zero."
   ]
  },
  {
   "cell_type": "markdown",
   "metadata": {},
   "source": [
    "**Zadanie 4 (0.5p.)**\n",
    "\n",
    "Sprawdź, czy ma miejsce sytuacja, w której w danym wierszu **Embarked_C == Embarked_Q == Embarked_S == 0**. Jeżeli liczba takich rekordów jest mała - usuń je ze zbioru `train_data`."
   ]
  },
  {
   "cell_type": "code",
   "execution_count": null,
   "metadata": {},
   "outputs": [],
   "source": [
    "# your_code_here"
   ]
  },
  {
   "cell_type": "markdown",
   "metadata": {},
   "source": [
    "## Skalowanie wartości\n",
    "\n",
    "Ostatnim elementem preprocessingu danych jest ich skalowanie. Zastanów się, co by się stało, gdyby wartości w jednej kolumnie wynosiły np. `[10000, 100000]`, a w drugiej `[1, 10]`. Często takie zjawisko może powodować zaburzenia w trenowaniu modelu oraz jakości predykcji. Wszakże każdy algorytm w końcu sprowadza się do dodawania, mnożenia, dzielenia itp. Więcej informacji na temat tego, dlaczego skalowanie jest aż tak istotne, możesz znaleźć [tu](https://analyticsindiamag.com/why-data-scaling-is-important-in-machine-learning-how-to-effectively-do-it/).\n",
    "\n",
    "Wykonajmy poniższy kod. Skaluje on wartości numeryczne z kolumn do przedziału `[0, 1]` z wykorzystaniem `MinMaxScaler`. Skalowanie odbywa się osobno dla każdej cechy.\n",
    "\n",
    "**Uwaga**: zawsze zapisuj nazwy kolumn, gdyż funkcja ta zwraca tablicę numpy, pozbawiona jest informacji o nazwach atrybutów. Zauważ też, że operujemy tylko na danych treningowych (w kontekście kolumny **Survived**)."
   ]
  },
  {
   "cell_type": "code",
   "execution_count": null,
   "metadata": {},
   "outputs": [],
   "source": [
    "from sklearn.preprocessing import MinMaxScaler\n",
    "from pandas import DataFrame\n",
    "\n",
    "data_columns = train_data.columns\n",
    "scaler = MinMaxScaler()\n",
    "train_data = DataFrame(scaler.fit_transform(train_data))\n",
    "train_data.columns = data_columns\n",
    "train_data.head()"
   ]
  },
  {
   "cell_type": "markdown",
   "metadata": {},
   "source": [
    "Ten podrozdział pokrył kluczowe aspekty przygotowania danych. Ale jest jeszcze jedna rzecz, którą trzeba wiedzieć. Czasami optymalnym rozwiązaniem jest generowanie zupełnie nowych atrybutów (w oparciu o te istniejące) i używanie tych nowych atrybutów w procesie trenowania modelu. Takim algorytmem jest np. [YAGGA](https://docs.rapidminer.com/8.0/studio/operators/modeling/optimization/feature_generation/optimize_by_generation_yagga2.html) (wykorzystywana w innym popularnym środowisku do uczenia maszynowego, jakim jest RapidMinerStudio). Przy czym dla powyższego przykładu wykorzystanie tego algorytmu byłoby nieuzasadnione. Poza tym biblioteka sklearn nie posiada tego algorytmu."
   ]
  },
  {
   "cell_type": "markdown",
   "metadata": {},
   "source": [
    "# Regresja liniowa"
   ]
  },
  {
   "cell_type": "markdown",
   "metadata": {},
   "source": [
    "Regresja liniowa jest jednym z najprostszych modeli predykcyjnych. Nadaje się ona do predykcji danych numerycznych, a więc w naszym przypadku np. do predykcji danych w kolumnie **Age**. Prosta regresja liniowa, dla 1 zmiennej, wyraża się wzorem:\n",
    "\n",
    "$$\n",
    "y = ax + b,\n",
    "$$\n",
    "\n",
    "gdzie *y* to zmienna zależna, *x* to zmienna niezależna, a współczynniki *a* i *b* liczone są wg wzorów opisanych [tu](https://www.vedantu.com/formula/linear-regression-formula), bez wątpienia znanych Ci z algebry liniowej.\n",
    "\n",
    "Pewnym rozwinięciem regresji liniowej jest Wielokrotna Regresja Liniowa (*Multiple Linear Regression*, *MLR*), która pozwala na wykorzystanie więcej niż jednej cechy do predykcji wartości. Stanowi ona de facto kombinację liniową pojedynczych cech. Więcej o tym mechanizmie możesz przeczytać [tu](https://rankia.pl/analizy-gieldowe/co-to-jest-wielokrotna-regresja-liniowa-mlr/)."
   ]
  },
  {
   "cell_type": "markdown",
   "metadata": {},
   "source": [
    "Przygotujmy się do naszej pierwszej predykcji. Z całości zbioru `train_data` wyodrębnimy te przykłady, w których nie brakuje danych z kolumny **Age**."
   ]
  },
  {
   "cell_type": "code",
   "execution_count": null,
   "metadata": {},
   "outputs": [],
   "source": [
    "train_data_linear = train_data.dropna(inplace=False, subset=[\"Age\"])"
   ]
  },
  {
   "cell_type": "markdown",
   "metadata": {},
   "source": [
    "## Podział na zbiór treningowy i testowy\n",
    "\n",
    "Nasz zbiór `train_data_linear` podzielmy na dwa podzbiory: trenujący (75%) i testowy (25%). Trenujący pozwoli nam utworzyć model regresji liniowej, natomiast testowy - oszacować jej jakość. W tym momencie do predykcji wieku użyjemy tylko cechy **SibSp** (dla przykładu), będzie to więc klasyczna regresja liniowa. Pamiętaj, że wyniki uzyskiwane przez model na danych treningowych nie są wiarygodne. Konieczne jest sprawdzenie, jak model radzi sobie na danych testowych.\n",
    "\n",
    "**Uwaga**: W eksperymentach ustalamy na sztywno wartość parametru `random_state`. [Doczytaj](https://scikit-learn.org/stable/glossary.html#term-random_state), dlaczego wykorzystywany jest ten parametr i co się dzieje, gdy jest on równy zero."
   ]
  },
  {
   "cell_type": "code",
   "execution_count": null,
   "metadata": {},
   "outputs": [],
   "source": [
    "from sklearn.model_selection import train_test_split\n",
    "\n",
    "x = train_data_linear[\"SibSp\"]\n",
    "y = train_data_linear[\"Age\"]\n",
    "\n",
    "x_train, x_test, y_train, y_test = train_test_split(\n",
    "    x, y, test_size=0.25, random_state=0, shuffle=True\n",
    ")\n",
    "x_train = x_train.values.reshape(-1, 1)\n",
    "x_test = x_test.values.reshape(-1, 1)"
   ]
  },
  {
   "cell_type": "markdown",
   "metadata": {},
   "source": [
    "## Trening modelu regresji\n",
    "\n",
    "Na poniższym przykładzie możesz zobaczyć, jak trenujemy model oraz jak wygląda jego reprezentacja graficzna."
   ]
  },
  {
   "cell_type": "code",
   "execution_count": null,
   "metadata": {},
   "outputs": [],
   "source": [
    "from sklearn.linear_model import LinearRegression\n",
    "import matplotlib.pyplot as plt\n",
    "\n",
    "model = LinearRegression()\n",
    "model.fit(x_train, y_train)\n",
    "predict = model.predict(x_test)\n",
    "\n",
    "plt.scatter(x_test, y_test, color=\"black\")\n",
    "plt.xlabel(\"SibSp\")\n",
    "plt.ylabel(\"Age\")\n",
    "plt.plot(x_test, predict, color=\"red\", linewidth=3)"
   ]
  },
  {
   "cell_type": "markdown",
   "metadata": {},
   "source": [
    "## Ocena jakości modelu\n",
    "\n",
    "Pytanie: skąd wiemy, czy nasz model działa dobrze, czy też źle? W regresji liniowej mamy do tego dwa podstawowe wskaźniki: Współczynnik determinacji (`r2_score`), który pokazuje, jak silna jest korelacja pomiędzy modelem, a próbą (im bliżej 1, tym lepiej), oraz błąd średniokwadratowy (**MSE** - *mean square error*), który pokazuje błąd średniokwadratowy naszego modelu (im bliżej 0, tym lepiej). Wykonaj poniższy kod, aby obliczyć oba te współczynniki dla wytrenowanego modelu."
   ]
  },
  {
   "cell_type": "code",
   "execution_count": null,
   "metadata": {},
   "outputs": [],
   "source": [
    "from sklearn.metrics import mean_squared_error\n",
    "from sklearn.metrics import r2_score\n",
    "\n",
    "r2 = r2_score(y_test, predict)\n",
    "MSE = mean_squared_error(y_test, predict)\n",
    "print(r2)\n",
    "print(MSE)"
   ]
  },
  {
   "cell_type": "markdown",
   "metadata": {},
   "source": [
    "Nasza wartość MSE jest przyzwoita, stosunkowo blisko zera. Zauważ natomiast, że współczynnik determinacji jest także bliski zeru. Czy to źle? Cóż, w naszym przypadku istotniejszy jest MSE. To, że nasz model przewiduje raz wiek zbyt duży, a raz zbyt mały, nie jest dla nas aż tak istotne, gdyż różnica od wieku prawdziwego jest niewielka. Pamiętaj jednak, że w przypadku wartości MSE istotna jest też skala (przedział) danych, które przewidujemy. Powyższa wartość MSE nie byłaby aż tak korzystna, gdyby przeskalowana wartość **AGE** wahała się np. w przedziale $[0, 0.03]$. Tak jednak nie jest."
   ]
  },
  {
   "cell_type": "code",
   "execution_count": null,
   "metadata": {},
   "outputs": [],
   "source": [
    "print(min(y_test))\n",
    "print(max(y_test))"
   ]
  },
  {
   "cell_type": "markdown",
   "metadata": {},
   "source": [
    "[\"*You can have a very good MSE for a model which has a very poor R-squared. It just means that the your model has a low error when predicting values but there is very little correlation between the variables. These are statistical measures anyway.*\"](https://www.researchgate.net/post/Why_my_regression_model_shows_good_MSE_but_bad_R-squared_value)\n",
    "\n",
    "**Uwaga:** r2 używamy zazwyczaj na zbiorze treningowym. Jeżeli jesteś ciekawy dlaczego, [tu](https://stats.stackexchange.com/questions/348330/should-r2-be-calculated-on-training-data-or-test-data) znajdziesz interesującą dyskusję na ten temat."
   ]
  },
  {
   "cell_type": "markdown",
   "metadata": {},
   "source": [
    "## Walidacja skrośna\n",
    "\n",
    "Taki jednorazowy podział na zbiór trenujący i testowy (zwany zresztą z ang. *Split Validation* albo *Holdout*) może jednak dawać przekłamane wyniki, w szczególności, jeśli zbiór danych jest mały. Dlatego do weryfikacji jakości predykcji możemy również użyć walidacji skrośnej (z ang. *Cross Validation*). Walidacja skrośna polega na tym, że całość zbioru trenującego jest dzielona na K równych podzbiorów (tzw. *foldów*). Każdy podzbiór raz jest zbiorem testowym, a wówczas reszta staje się zbiorem trenującym. Koniec końców otrzymujemy więc K wyników, które możemy uśrednić i obliczyć z nich odchylenie standardowe. Spójrz na poniższy przykład."
   ]
  },
  {
   "cell_type": "code",
   "execution_count": null,
   "metadata": {},
   "outputs": [],
   "source": [
    "from sklearn.model_selection import cross_val_score\n",
    "from statistics import mean, stdev\n",
    "\n",
    "x = x.values.reshape(-1, 1)\n",
    "\n",
    "scores_r2 = cross_val_score(model, x, y, scoring=\"r2\", cv=10)\n",
    "scores_mse = cross_val_score(model, x, y, scoring=\"neg_mean_squared_error\", cv=10)\n",
    "print(\"mean: \", mean(scores_r2), \" std: \", stdev(scores_r2))\n",
    "print(\"mean: \", mean(scores_mse), \" std: \", stdev(scores_mse))"
   ]
  },
  {
   "cell_type": "markdown",
   "metadata": {},
   "source": [
    "Takie wyniki są znacznie bardziej wiarygodne. Typową liczbą podzbiorów jest 5-10 (zwykle im większy zbiór, tym mniej podzbiorów - aby zaoszczędzić czas).\n",
    "\n",
    "## Wykorzystanie wielu cech\n",
    "\n",
    "Dlaczego mamy korzystać tylko z jednej cechy w naszej predykcji? Spróbujmy nasz model rozbudować. Może zastosowanie wszystkich cech będzie lepszym rozwiązaniem? A może jakiegoś ich podzbioru?\n",
    "\n",
    "Przeanalizuj poniższy kod. Zauważ, że z tymczasowych danych trenujących *x* usunięta zostaje kolumna **Survived**. Jest to konieczne, ponieważ, docelowo (gdy już uzupełnimy **Age**) będzie to kolumna, którą będziemy chcieli przewidywać. Nie chcemy przewidywać danych w **Survived** z użyciem danych **Age** przewidzianych z wykorzystaniem **Survived**, bo to może zaburzyć wyniki predykcji w dalszym etapie naszego laboratorium. \n",
    "\n",
    "## Wyszukiwanie hiperparametrów na siatce\n",
    "\n",
    "Zauważ także, że używamy ekstraktora cech `RFE` (feature selection). Przekazując do niego model, możemy zdecydować ile cech ma on wyekstrahować. Ale my nie chcemy tego robić dla każdej kombinacji cech oddzielnie, wprowadzając ich liczbę \"z palca\". Wolelibyśmy, żeby optymalna liczba tych cech została określona eksperymentalnie.\n",
    "\n",
    "Tutaj z pomocą przychodzi [`GridSearchCV`](https://scikit-learn.org/stable/modules/generated/sklearn.model_selection.GridSearchCV.html). Jest to klasa, której najważniejsze parametry to: model, lista parametrów do optymalizowania modelu (właściwa dla danego modelu, RFE posiada jeden istotny parametr (zwany n_features_to_select) oraz krotność podzbiorów. \n",
    "\n",
    "**Uwaga**: doczytaj w dokumentacji co to jest `neg_mean_squared_error`."
   ]
  },
  {
   "cell_type": "code",
   "execution_count": null,
   "metadata": {},
   "outputs": [],
   "source": [
    "from sklearn.feature_selection import RFE\n",
    "from sklearn.model_selection import KFold\n",
    "from sklearn.model_selection import GridSearchCV\n",
    "\n",
    "folds = KFold(n_splits=10, shuffle=True, random_state=0)\n",
    "hyper_params = [{\"n_features_to_select\": list(range(1, train_data.shape[1]))}]\n",
    "\n",
    "X = train_data_linear.drop(inplace=False, columns=[\"Age\"]).drop(columns=\"Survived\")\n",
    "model.fit(X, y)\n",
    "model_rfe = RFE(model)\n",
    "\n",
    "model_cv = GridSearchCV(\n",
    "    estimator=model_rfe,\n",
    "    param_grid=hyper_params,\n",
    "    scoring=\"neg_mean_squared_error\",\n",
    "    cv=folds,\n",
    "    verbose=1,\n",
    "    return_train_score=True,\n",
    ")\n",
    "\n",
    "model_cv.fit(X, y)\n",
    "model_cv.best_params_"
   ]
  },
  {
   "cell_type": "markdown",
   "metadata": {},
   "source": [
    "Wiemy już, że nie wszystkie cechy są tak samo istotne. Razem jest ich 9 (usunęliśmy kolumnę **Survived**), ale dzięki RFE wiemy, że optymalne rozwiązanie otrzymamy z wykorzystaniem ośmiu z nich. Czas użyć trochę nowej wiedzy w praktyce."
   ]
  },
  {
   "cell_type": "markdown",
   "metadata": {},
   "source": [
    "## Trening ulepszonego modelu regresji\n",
    "\n",
    "**Zadanie 5 (2p.)**\n",
    "\n",
    "Celem jest zastąpienie wartości NaN z kolumny **Age** w zbiorze `train_data` przewidzianymi wartościami.\n",
    "\n",
    "Wykonaj poniższe czynności:\n",
    "1. Przygotuj tymczasową zmienną `y_train` zawierającą dane z kolumny **Age** ze zbioru `train_data_linear`.\n",
    "1. Przygotuj zmienną `x_train` zawierającą wszystkie kolumny z `train_data_linear` za wyjątkiem kolumn **Survived** oraz **Age**.\n",
    "1. Przygotuj zmienną `x_test` na podstawie pierwotnego zbioru trenującego: `train_data`. `x_test` powinno zawierać wszystkie te rekordy, gdzie **Age** jest NaN. Po wyselekcjonowaniu tych rekordów, usuń z `x_test` kolumny **Age** oraz **Survived**.\n",
    "1. Wytrenuj model regresji liniowej na podstawie danych (`x_train, y_train`), z wykorzystaniem `RFE` z ustaloną liczbą cech równą 8 (wybrane na podstawie poprzedniej analizy).\n",
    "1. Wykorzystaj model do predykcji wartości **Age** dla zbioru `x_test`, wyniki zapisz w zmiennej `predict`.\n",
    "1. W oryginalnym zbiorze danych `train_data`, zastąp wartości NaN z kolumny **Age** wartościami ze zmiennej `predict`."
   ]
  },
  {
   "cell_type": "code",
   "execution_count": null,
   "metadata": {},
   "outputs": [],
   "source": [
    "y_train = # your_code_here\n",
    "X_train = # your_code_here\n",
    "X_test = # your_code_here\n",
    "\n",
    "# your_code_here\n",
    "\n",
    "predict = # your_code_here\n",
    "\n",
    "train_data.loc[train_data[\"Age\"].isna(), \"Age\"] = predict\n",
    "\n",
    "train_data.info()"
   ]
  },
  {
   "cell_type": "markdown",
   "metadata": {},
   "source": [
    "I tak oto udało nam się poradzić z brakującymi wartościami w kolumnie **Age**. Nasz zbiór `train_data` jest kompletny i może posłużyć jako treningowy do zadania klasyfikacji związanego z kolumną **Survived**.\n",
    "\n",
    "## Wczytanie danych testowych\n",
    "\n",
    "Zanim zajmiemy się jednak klasyfikacją, musimy wczytać dane testowe."
   ]
  },
  {
   "cell_type": "markdown",
   "metadata": {},
   "source": [
    "**Zadanie 6 (2p.)**\n",
    "\n",
    "Wykonaj poniższe czynności:\n",
    "1. Wczytaj dane testowe `titanic_test.csv`.\n",
    "1. Zapoznaj się z danymi, sprawdź, czy brakuje kolumn/rekordów.\n",
    "1. Opracuj dane testowe tak, aby była możliwa predykcja klasy **Survived**. W szczególności pamiętaj o:\n",
    "* przekonwertowaniu odpowiednich kolumn z kategorycznych na numeryczne,\n",
    "* usunięciu odpowiednich kolumn,\n",
    "* odpowiednim przeskalowaniu danych,\n",
    "* uzupełnieniu brakujących wartości **Age**, wykorzystaj już wytrenowany klasyfikator,\n",
    "* podejmij decyzję, co zrobić z brakującą wartością **Fare**.\n",
    "\n",
    "Gdy wykonasz wszystko powyższe, zwizualizuj dane testowe z użyciem metody `matrix()` z biblioteki missingno. W danych testowych nie powinno być wartości brakujących.\n",
    "\n",
    "Pamiętaj o nazwach kolumn, w zbiorze trenującym i testowym muszą być takie same."
   ]
  },
  {
   "cell_type": "code",
   "execution_count": null,
   "metadata": {},
   "outputs": [],
   "source": [
    "from missingno import matrix\n",
    "\n",
    "# your_code_here"
   ]
  },
  {
   "cell_type": "markdown",
   "metadata": {},
   "source": [
    "# Regresja logistyczna"
   ]
  },
  {
   "cell_type": "markdown",
   "metadata": {},
   "source": [
    "Regresja logistyczna jest modelem, który pozwala na przewidywanie wartości zmiennych dychotomicznych (binarnych), w oparciu o jedną lub większą ilość cech. Funkcją bazową regresji logistycznej jest funkcja logistyczna:\n",
    "\n",
    "$$\n",
    "y = \\sigma(x) = \\frac{1}{1 + e^{-(ax + b)}}\n",
    "$$\n",
    "\n",
    "Funkcja ta jest bardzo podobna do regresji liniowej (współczynniki, których uczy się model to $a$ oraz $b$), ale wartości tej funkcji ograniczone są do zbioru $[0,1]$. Dzięki temu można bardzo łatwo zmapować te wartości na zbiór dwuelementowy: 0 i 1, wygodny do klasyfikacji - jeśli wartość funkcji jest > 0.5, to mapowana jest ona na 1, w przeciwnym razie na 0. Bardzo ciekawe podsumowanie teoretycznych podstaw regresji logistycznej znajdziesz [tu](https://philippmuens.com/logistic-regression-from-scratch).\n",
    "\n",
    "Zmienne dychotomiczne to inaczej zmienne, które przyjmują jedynie dwie wartości. Przykładem jest nasza kolumna **Survived** z danych trenujących. Podzielmy więc zbiór trenujący (zawierający etykiety klasy) na podzbiory do trenowania i testowania modelu."
   ]
  },
  {
   "cell_type": "code",
   "execution_count": null,
   "metadata": {},
   "outputs": [],
   "source": [
    "X = train_data.drop(inplace=False, columns=[\"Survived\"])\n",
    "y = train_data[\"Survived\"]\n",
    "\n",
    "X_train, X_test, y_train, y_test = train_test_split(\n",
    "    X, y, test_size=0.25, random_state=0, shuffle=True\n",
    ")"
   ]
  },
  {
   "cell_type": "markdown",
   "metadata": {},
   "source": [
    "## Ocena poprawności klasyfikacji\n",
    "\n",
    "Wytrenujmy nasz pierwszy model i oszacujmy jego dokładność."
   ]
  },
  {
   "cell_type": "code",
   "execution_count": null,
   "metadata": {},
   "outputs": [],
   "source": [
    "from sklearn.linear_model import LogisticRegression\n",
    "\n",
    "model = LogisticRegression()\n",
    "model.fit(X_train, y_train)\n",
    "model.score(X_test, y_test)"
   ]
  },
  {
   "cell_type": "markdown",
   "metadata": {},
   "source": [
    "74% - nieźle, ale może da się ten wynik poprawić. Problem, którym teraz się zajmujemy to problem klasyfikacji. W problemach klasyfikacji mamy dwie główne miary jakości modelu. Jest to dokładność (z ang. *accuracy*) albo tzw. AUC (z ang. *Area Under [ROC] Curve*).\n",
    "Dokładność jest dość intuicyjną miarą, gdyż jest to liczba poprawnie zaklasyfikowanych przykładów (z obu kategorii), podzielona przez liczbę wszystkich przykładów podlegających klasyfikacji:\n",
    "\n",
    "$$\n",
    "Acc = \\frac{TP+TN}{TP+TN+FP+FN},\n",
    "$$\n",
    "\n",
    "gdzie: \n",
    "\n",
    "* $TP$ (true positives) - liczba pozytywnych przypadków (np. osób, które przeżyły katastrofę) zaklasyfikowanych poprawnie,\n",
    "* $TN$ (true negatives) - liczba negatywnych przypadków (np. osób, które nie przeżyły katastrofy) zaklasyfikowanych poprawnie,\n",
    "* $FP$ (false positives) - liczba pozytywnych przypadków, zaklasyfikowanych błędnie,\n",
    "* $FN$ (false negatives) - liczba negatywnych przypadków, zaklasyfikowanych błędnie.\n",
    "\n",
    "Dokładności używamy, gdy klasy rozłożone są w miarę równomiernie, a AUC, gdy jedna klasa jest dominująca. Sprawdźmy, jak jest w naszym przypadku."
   ]
  },
  {
   "cell_type": "code",
   "execution_count": null,
   "metadata": {},
   "outputs": [],
   "source": [
    "y_0 = y[y == 0].size\n",
    "y_1 = y[y == 1].size\n",
    "print(\"0:\", y_0)\n",
    "print(\"1:\", y_1)"
   ]
  },
  {
   "cell_type": "markdown",
   "metadata": {},
   "source": [
    "Uznajmy, że zbiór ten jest umiarkowanie zbalansowany. Wybierzmy więc `accuracy` jako `scoring`. `roc_auc` wykorzystamy w następnym laboratorium, gdzie zbiór danych będzie znacznie bardziej niezbalansowany.\n",
    "\n",
    "**Zadanie 7 (1p.)**\n",
    "\n",
    "Ustal optymalną liczbę cech do predykcji klasy **Survived**. Skorzystaj z `RFE`, `GridSearchCV` oraz 10-krotnej walidacji skrośnej."
   ]
  },
  {
   "cell_type": "code",
   "execution_count": null,
   "metadata": {},
   "outputs": [],
   "source": [
    "hyper_params = [{\"n_features_to_select\": list(range(1, train_data.shape[1]))}]\n",
    "model_rfe = # your_code_here\n",
    "\n",
    "# your_code_here\n",
    "\n",
    "model_cv = # your_code_here\n",
    "\n",
    "model_cv.fit(X_train, y_train)\n",
    "model_cv.best_params_"
   ]
  },
  {
   "cell_type": "markdown",
   "metadata": {},
   "source": [
    "Posiadając liczbę cech, ustalmy jaki zestaw parametrów regresji logistycznej ([zobacz parametry](https://scikit-learn.org/stable/modules/generated/sklearn.linear_model.LogisticRegression.html)) jest optymalny dla naszego problemu. Jako solvera użyjemy modelu *saga*. Jest on szybki i wspiera regularyzację Elastic Net ([zobacz definicję](https://en.wikipedia.org/wiki/Elastic_net_regularization)).\n",
    "\n",
    "## Przeuczenie\n",
    "\n",
    "W trakcie trenowania modelu może dojść do sytuacji, w której zostanie on przeuczony (z ang. *overfitting*). Gdy to się wydarzy, model może mieć bardzo dokładne wyniki, gdy zastosujemy go na danych, które już widział na etapie trenowania. Takie szacowanie jakości modelu jest oczywiście błędem metodologicznym. Przeuczenie modelu jest bardzo istotnym problemem w sztucznej inteligencji i isnieje szereg metod, służących zapobieganiu tego zjawiska. Jedną z nich jest regularyzacja - do globalnej funkcji błędu dodawane są \"kary\": `l1` oraz `l2`, które stanowią miary wielkości parametrów obliczonych w trakcie treningu. Obie te wartości są tak naprawdę normami (odpowiednio `l1` i `l2`) wektorów wag modelu przeskalowane przez określoną wartość (w sklearn określoną jako `C`). Dodawanie tych kar ma zabiec przeuczeniu. Jak słusznie możesz się spodziewać, zbyt duże kary spowoduję z kolei niedouczenie (ang. *underfitting*). Więcej o konstrukcji i zastosowaniach regularyzacji `l1` i `l2` przeczytać możesz [tu](https://towardsdatascience.com/intuitions-on-l1-and-l2-regularisation-235f2db4c261)."
   ]
  },
  {
   "cell_type": "markdown",
   "metadata": {},
   "source": [
    "**Zadanie 8 (1p.)**\n",
    " \n",
    " Dowiedz się, jaki zestaw parametrów dla naszego problemu jest optymalny."
   ]
  },
  {
   "cell_type": "code",
   "execution_count": null,
   "metadata": {},
   "outputs": [],
   "source": [
    "hyper_params = {\n",
    "    \"estimator__solver\": [\"saga\"],\n",
    "    \"estimator__C\": [0.001, .009, 0.01, .09, 1, 5],\n",
    "    \"estimator__penalty\": [\"l1\", \"l2\"],\n",
    "    \"estimator__intercept_scaling\": [0.01, 0.1, 1., 10., 20.],\n",
    "    \"estimator__max_iter\": [1000],\n",
    "    \"n_features_to_select\": [7]\n",
    "    }\n",
    "model_cv = # your_code_here\n",
    "\n",
    "print(model_cv.best_params_)\n",
    "print(model_cv.best_score_)"
   ]
  },
  {
   "cell_type": "markdown",
   "metadata": {},
   "source": [
    "**Zadanie 9 (1p.)**\n",
    "\n",
    "Wytrenuj optymalny model (parametry dobierz na podstawie poprzednich zadań) oraz dokonaj predykcji brakujących wartości klasy **Survived** dla zbioru `titanic_test.csv`. Wyniki zwizualizuj na wykresie słupkowym."
   ]
  },
  {
   "cell_type": "code",
   "execution_count": null,
   "metadata": {},
   "outputs": [],
   "source": [
    "# your_code_here"
   ]
  },
  {
   "cell_type": "markdown",
   "metadata": {},
   "source": [
    "# Pytania kontrolne"
   ]
  },
  {
   "cell_type": "markdown",
   "metadata": {},
   "source": [
    "(**1p.**)\n",
    "\n",
    "1. Co zrobić z kolumną, która zawiera wartości od \"A\" do \"D\", a powinna zostać wykorzystana przez model?\n",
    "1. Jakie są sposoby radzenia sobie z danymi brakującymi?\n",
    "1. Jak nazwiesz typ wartości dla kolumny, która zawiera tylko i wyłącznie liczby 13 oraz 17?\n",
    "1. Czy stosowanie jednorazowego podziału zbioru na testowy i trenujący jest zawsze niezalecane? Jaka jest inna metoda?\n",
    "1. Czy każda cecha w modelu jest istotna? Jakie znasz metody wybierania podzbiorów cech?\n",
    "1. Jak oszacować skuteczność modelu, który dokonuje predykcji gatunku zwierzęcia, a jak modelu, który przewiduje kurs akcji giełdowych?\n",
    "1. Jakiej wartości korelacji spodziewać się dla danych typu kraj pochodzenia - język, a jakich dla problemu typu *predator - prey*?\n",
    "1. Jakich modeli użyć dla obu problemów opisanych w punkcie wyżej?"
   ]
  },
  {
   "cell_type": "markdown",
   "metadata": {},
   "source": [
    "# Zadanie dodatkowe *"
   ]
  },
  {
   "cell_type": "markdown",
   "metadata": {},
   "source": [
    "**(2p.)**\n",
    "\n",
    "Poniższe zadanie jest dodatkowe, nie musisz go wykonać.\n",
    "\n",
    "W tym laboratorium rozważyliśmy dwa rodzaje regresji: liniową i logistyczną. W bibliotece sklearn istnieje jednak kilka innych typów liniowych modeli ([Linear classifiers](https://scikit-learn.org/stable/modules/classes.html?highlight=sklearn+linear_model#module-sklearn.linear_model)). Sprawdź czy dla problemu wieku (**Age**) i/lub klasy **Survived** dasz radę uzyskać wyższą skuteczność niż dla modeli zaproponowanych w laboratorium. Jeżeli Ci się to uda, oszacuj, czy różnica/różnice są znaczące z punktu widzenia statystycznego.\n",
    "\n",
    "Dodatkowo, jeżeli wyżej wspomniane tematy są dla Ciebie interesujące, zapoznaj się z materiałami dodatkowymi: [train-valid-test split](https://mlu-explain.github.io/train-test-validation/), [ROC & AUC](https://mlu-explain.github.io/roc-auc/), [Regresja logistyczna](https://mlu-explain.github.io/logistic-regression/), [MLU Explain](https://mlu-explain.github.io/linear-regression/) oraz [regularyzacja L1 i L2](https://sebastianraschka.com/faq/docs/regularization-linear.html)."
   ]
  }
 ],
 "metadata": {
  "kernelspec": {
   "display_name": "Python 3 (ipykernel)",
   "language": "python",
   "name": "python3"
  }
 },
 "nbformat": 4,
 "nbformat_minor": 4
}
